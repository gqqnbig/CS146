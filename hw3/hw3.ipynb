{
 "cells": [
  {
   "cell_type": "code",
   "execution_count": 1,
   "metadata": {
    "collapsed": true
   },
   "outputs": [],
   "source": [
    "import numpy as np\n"
   ]
  },
  {
   "cell_type": "code",
   "execution_count": 2,
   "metadata": {},
   "outputs": [
    {
     "ename": "NameError",
     "evalue": "name 'int1' is not defined",
     "output_type": "error",
     "traceback": [
      "\u001b[1;31m---------------------------------------------------------------------------\u001b[0m",
      "\u001b[1;31mNameError\u001b[0m                                 Traceback (most recent call last)",
      "\u001b[1;32m<ipython-input-2-bb5f6f12ad17>\u001b[0m in \u001b[0;36m<module>\u001b[1;34m()\u001b[0m\n\u001b[1;32m----> 1\u001b[1;33m a = np.zeros((10, 10), dtype = int1\n\u001b[0m\u001b[0;32m      2\u001b[0m             )\n",
      "\u001b[1;31mNameError\u001b[0m: name 'int1' is not defined"
     ]
    }
   ],
   "source": [
    "a = np.zeros((10, 10), dtype = int1\n",
    "            )"
   ]
  },
  {
   "cell_type": "code",
   "execution_count": 3,
   "metadata": {},
   "outputs": [
    {
     "ename": "AttributeError",
     "evalue": "module 'numpy' has no attribute 'int1'",
     "output_type": "error",
     "traceback": [
      "\u001b[1;31m---------------------------------------------------------------------------\u001b[0m",
      "\u001b[1;31mAttributeError\u001b[0m                            Traceback (most recent call last)",
      "\u001b[1;32m<ipython-input-3-390192b7248f>\u001b[0m in \u001b[0;36m<module>\u001b[1;34m()\u001b[0m\n\u001b[1;32m----> 1\u001b[1;33m \u001b[0ma\u001b[0m \u001b[1;33m=\u001b[0m \u001b[0mnp\u001b[0m\u001b[1;33m.\u001b[0m\u001b[0mzeros\u001b[0m\u001b[1;33m(\u001b[0m\u001b[1;33m(\u001b[0m\u001b[1;36m10\u001b[0m\u001b[1;33m,\u001b[0m \u001b[1;36m10\u001b[0m\u001b[1;33m)\u001b[0m\u001b[1;33m,\u001b[0m \u001b[0mdtype\u001b[0m \u001b[1;33m=\u001b[0m \u001b[0mnp\u001b[0m\u001b[1;33m.\u001b[0m\u001b[0mint1\u001b[0m\u001b[1;33m)\u001b[0m\u001b[1;33m\u001b[0m\u001b[0m\n\u001b[0m",
      "\u001b[1;31mAttributeError\u001b[0m: module 'numpy' has no attribute 'int1'"
     ]
    }
   ],
   "source": [
    "a = np.zeros((10, 10), dtype = np.int1)"
   ]
  },
  {
   "cell_type": "code",
   "execution_count": 4,
   "metadata": {},
   "outputs": [
    {
     "ename": "AttributeError",
     "evalue": "module 'numpy' has no attribute 'int2'",
     "output_type": "error",
     "traceback": [
      "\u001b[1;31m---------------------------------------------------------------------------\u001b[0m",
      "\u001b[1;31mAttributeError\u001b[0m                            Traceback (most recent call last)",
      "\u001b[1;32m<ipython-input-4-cbd6aa18790e>\u001b[0m in \u001b[0;36m<module>\u001b[1;34m()\u001b[0m\n\u001b[1;32m----> 1\u001b[1;33m \u001b[0ma\u001b[0m \u001b[1;33m=\u001b[0m \u001b[0mnp\u001b[0m\u001b[1;33m.\u001b[0m\u001b[0mzeros\u001b[0m\u001b[1;33m(\u001b[0m\u001b[1;33m(\u001b[0m\u001b[1;36m10\u001b[0m\u001b[1;33m,\u001b[0m \u001b[1;36m10\u001b[0m\u001b[1;33m)\u001b[0m\u001b[1;33m,\u001b[0m \u001b[0mdtype\u001b[0m \u001b[1;33m=\u001b[0m \u001b[0mnp\u001b[0m\u001b[1;33m.\u001b[0m\u001b[0mint2\u001b[0m\u001b[1;33m)\u001b[0m\u001b[1;33m\u001b[0m\u001b[0m\n\u001b[0m",
      "\u001b[1;31mAttributeError\u001b[0m: module 'numpy' has no attribute 'int2'"
     ]
    }
   ],
   "source": [
    "a = np.zeros((10, 10), dtype = np.int2)"
   ]
  },
  {
   "cell_type": "code",
   "execution_count": 5,
   "metadata": {
    "collapsed": true
   },
   "outputs": [],
   "source": [
    "a = np.zeros((10, 10), dtype = np.int64)"
   ]
  },
  {
   "cell_type": "code",
   "execution_count": 6,
   "metadata": {
    "collapsed": true
   },
   "outputs": [],
   "source": [
    "a = np.zeros((10, 10), dtype = np.int8)"
   ]
  },
  {
   "cell_type": "code",
   "execution_count": 7,
   "metadata": {},
   "outputs": [
    {
     "ename": "AttributeError",
     "evalue": "module 'numpy' has no attribute 'int4'",
     "output_type": "error",
     "traceback": [
      "\u001b[1;31m---------------------------------------------------------------------------\u001b[0m",
      "\u001b[1;31mAttributeError\u001b[0m                            Traceback (most recent call last)",
      "\u001b[1;32m<ipython-input-7-2b513788f03e>\u001b[0m in \u001b[0;36m<module>\u001b[1;34m()\u001b[0m\n\u001b[1;32m----> 1\u001b[1;33m \u001b[0ma\u001b[0m \u001b[1;33m=\u001b[0m \u001b[0mnp\u001b[0m\u001b[1;33m.\u001b[0m\u001b[0mzeros\u001b[0m\u001b[1;33m(\u001b[0m\u001b[1;33m(\u001b[0m\u001b[1;36m10\u001b[0m\u001b[1;33m,\u001b[0m \u001b[1;36m10\u001b[0m\u001b[1;33m)\u001b[0m\u001b[1;33m,\u001b[0m \u001b[0mdtype\u001b[0m \u001b[1;33m=\u001b[0m \u001b[0mnp\u001b[0m\u001b[1;33m.\u001b[0m\u001b[0mint4\u001b[0m\u001b[1;33m)\u001b[0m\u001b[1;33m\u001b[0m\u001b[0m\n\u001b[0m",
      "\u001b[1;31mAttributeError\u001b[0m: module 'numpy' has no attribute 'int4'"
     ]
    }
   ],
   "source": [
    "a = np.zeros((10, 10), dtype = np.int4)"
   ]
  },
  {
   "cell_type": "code",
   "execution_count": 8,
   "metadata": {},
   "outputs": [
    {
     "ename": "AttributeError",
     "evalue": "module 'numpy' has no attribute 'boolean'",
     "output_type": "error",
     "traceback": [
      "\u001b[1;31m---------------------------------------------------------------------------\u001b[0m",
      "\u001b[1;31mAttributeError\u001b[0m                            Traceback (most recent call last)",
      "\u001b[1;32m<ipython-input-8-69fff1ea6eaa>\u001b[0m in \u001b[0;36m<module>\u001b[1;34m()\u001b[0m\n\u001b[1;32m----> 1\u001b[1;33m a = np.zeros((10, 10), dtype = np.boolean\n\u001b[0m\u001b[0;32m      2\u001b[0m             )\n",
      "\u001b[1;31mAttributeError\u001b[0m: module 'numpy' has no attribute 'boolean'"
     ]
    }
   ],
   "source": [
    "a = np.zeros((10, 10), dtype = np.boolean\n",
    "            )"
   ]
  },
  {
   "cell_type": "code",
   "execution_count": 9,
   "metadata": {},
   "outputs": [
    {
     "ename": "SyntaxError",
     "evalue": "invalid syntax (<ipython-input-9-1f5a7236d674>, line 1)",
     "output_type": "error",
     "traceback": [
      "\u001b[1;36m  File \u001b[1;32m\"<ipython-input-9-1f5a7236d674>\"\u001b[1;36m, line \u001b[1;32m1\u001b[0m\n\u001b[1;33m    a = np.zeros((10, 10), dtype = np.bool?)\u001b[0m\n\u001b[1;37m                                          ^\u001b[0m\n\u001b[1;31mSyntaxError\u001b[0m\u001b[1;31m:\u001b[0m invalid syntax\n"
     ]
    }
   ],
   "source": [
    "a = np.zeros((10, 10), dtype = np.bool?)"
   ]
  },
  {
   "cell_type": "code",
   "execution_count": 10,
   "metadata": {
    "collapsed": true
   },
   "outputs": [],
   "source": [
    "a = np.zeros((10, 10), dtype = np.bool)"
   ]
  },
  {
   "cell_type": "code",
   "execution_count": 11,
   "metadata": {},
   "outputs": [
    {
     "data": {
      "text/plain": [
       "array([[False, False, False, False, False, False, False, False, False,\n",
       "        False],\n",
       "       [False, False, False, False, False, False, False, False, False,\n",
       "        False],\n",
       "       [False, False, False, False, False, False, False, False, False,\n",
       "        False],\n",
       "       [False, False, False, False, False, False, False, False, False,\n",
       "        False],\n",
       "       [False, False, False, False, False, False, False, False, False,\n",
       "        False],\n",
       "       [False, False, False, False, False, False, False, False, False,\n",
       "        False],\n",
       "       [False, False, False, False, False, False, False, False, False,\n",
       "        False],\n",
       "       [False, False, False, False, False, False, False, False, False,\n",
       "        False],\n",
       "       [False, False, False, False, False, False, False, False, False,\n",
       "        False],\n",
       "       [False, False, False, False, False, False, False, False, False,\n",
       "        False]], dtype=bool)"
      ]
     },
     "execution_count": 11,
     "metadata": {},
     "output_type": "execute_result"
    }
   ],
   "source": [
    "a"
   ]
  },
  {
   "cell_type": "code",
   "execution_count": 12,
   "metadata": {},
   "outputs": [
    {
     "ename": "SyntaxError",
     "evalue": "EOL while scanning string literal (<ipython-input-12-d067f1ecd9fe>, line 1)",
     "output_type": "error",
     "traceback": [
      "\u001b[1;36m  File \u001b[1;32m\"<ipython-input-12-d067f1ecd9fe>\"\u001b[1;36m, line \u001b[1;32m1\u001b[0m\n\u001b[1;33m    np.genfromtxt('/code/data/label.txt\u001b[0m\n\u001b[1;37m                                       ^\u001b[0m\n\u001b[1;31mSyntaxError\u001b[0m\u001b[1;31m:\u001b[0m EOL while scanning string literal\n"
     ]
    }
   ],
   "source": [
    "np.genfromtxt('/code/data/label.txt\n",
    "              ')"
   ]
  },
  {
   "cell_type": "code",
   "execution_count": 13,
   "metadata": {},
   "outputs": [
    {
     "ename": "OSError",
     "evalue": "/code/data/label.txt not found.",
     "output_type": "error",
     "traceback": [
      "\u001b[1;31m---------------------------------------------------------------------------\u001b[0m",
      "\u001b[1;31mOSError\u001b[0m                                   Traceback (most recent call last)",
      "\u001b[1;32m<ipython-input-13-2bac56433051>\u001b[0m in \u001b[0;36m<module>\u001b[1;34m()\u001b[0m\n\u001b[1;32m----> 1\u001b[1;33m \u001b[0mnp\u001b[0m\u001b[1;33m.\u001b[0m\u001b[0mgenfromtxt\u001b[0m\u001b[1;33m(\u001b[0m\u001b[1;34m'/code/data/label.txt'\u001b[0m\u001b[1;33m)\u001b[0m\u001b[1;33m\u001b[0m\u001b[0m\n\u001b[0m",
      "\u001b[1;32mD:\\Anaconda3\\lib\\site-packages\\numpy\\lib\\npyio.py\u001b[0m in \u001b[0;36mgenfromtxt\u001b[1;34m(fname, dtype, comments, delimiter, skip_header, skip_footer, converters, missing_values, filling_values, usecols, names, excludelist, deletechars, replace_space, autostrip, case_sensitive, defaultfmt, unpack, usemask, loose, invalid_raise, max_rows)\u001b[0m\n\u001b[0;32m   1549\u001b[0m                 \u001b[0mfhd\u001b[0m \u001b[1;33m=\u001b[0m \u001b[0miter\u001b[0m\u001b[1;33m(\u001b[0m\u001b[0mnp\u001b[0m\u001b[1;33m.\u001b[0m\u001b[0mlib\u001b[0m\u001b[1;33m.\u001b[0m\u001b[0m_datasource\u001b[0m\u001b[1;33m.\u001b[0m\u001b[0mopen\u001b[0m\u001b[1;33m(\u001b[0m\u001b[0mfname\u001b[0m\u001b[1;33m,\u001b[0m \u001b[1;34m'rbU'\u001b[0m\u001b[1;33m)\u001b[0m\u001b[1;33m)\u001b[0m\u001b[1;33m\u001b[0m\u001b[0m\n\u001b[0;32m   1550\u001b[0m             \u001b[1;32melse\u001b[0m\u001b[1;33m:\u001b[0m\u001b[1;33m\u001b[0m\u001b[0m\n\u001b[1;32m-> 1551\u001b[1;33m                 \u001b[0mfhd\u001b[0m \u001b[1;33m=\u001b[0m \u001b[0miter\u001b[0m\u001b[1;33m(\u001b[0m\u001b[0mnp\u001b[0m\u001b[1;33m.\u001b[0m\u001b[0mlib\u001b[0m\u001b[1;33m.\u001b[0m\u001b[0m_datasource\u001b[0m\u001b[1;33m.\u001b[0m\u001b[0mopen\u001b[0m\u001b[1;33m(\u001b[0m\u001b[0mfname\u001b[0m\u001b[1;33m,\u001b[0m \u001b[1;34m'rb'\u001b[0m\u001b[1;33m)\u001b[0m\u001b[1;33m)\u001b[0m\u001b[1;33m\u001b[0m\u001b[0m\n\u001b[0m\u001b[0;32m   1552\u001b[0m             \u001b[0mown_fhd\u001b[0m \u001b[1;33m=\u001b[0m \u001b[1;32mTrue\u001b[0m\u001b[1;33m\u001b[0m\u001b[0m\n\u001b[0;32m   1553\u001b[0m         \u001b[1;32melse\u001b[0m\u001b[1;33m:\u001b[0m\u001b[1;33m\u001b[0m\u001b[0m\n",
      "\u001b[1;32mD:\\Anaconda3\\lib\\site-packages\\numpy\\lib\\_datasource.py\u001b[0m in \u001b[0;36mopen\u001b[1;34m(path, mode, destpath)\u001b[0m\n\u001b[0;32m    149\u001b[0m \u001b[1;33m\u001b[0m\u001b[0m\n\u001b[0;32m    150\u001b[0m     \u001b[0mds\u001b[0m \u001b[1;33m=\u001b[0m \u001b[0mDataSource\u001b[0m\u001b[1;33m(\u001b[0m\u001b[0mdestpath\u001b[0m\u001b[1;33m)\u001b[0m\u001b[1;33m\u001b[0m\u001b[0m\n\u001b[1;32m--> 151\u001b[1;33m     \u001b[1;32mreturn\u001b[0m \u001b[0mds\u001b[0m\u001b[1;33m.\u001b[0m\u001b[0mopen\u001b[0m\u001b[1;33m(\u001b[0m\u001b[0mpath\u001b[0m\u001b[1;33m,\u001b[0m \u001b[0mmode\u001b[0m\u001b[1;33m)\u001b[0m\u001b[1;33m\u001b[0m\u001b[0m\n\u001b[0m\u001b[0;32m    152\u001b[0m \u001b[1;33m\u001b[0m\u001b[0m\n\u001b[0;32m    153\u001b[0m \u001b[1;33m\u001b[0m\u001b[0m\n",
      "\u001b[1;32mD:\\Anaconda3\\lib\\site-packages\\numpy\\lib\\_datasource.py\u001b[0m in \u001b[0;36mopen\u001b[1;34m(self, path, mode)\u001b[0m\n\u001b[0;32m    499\u001b[0m             \u001b[1;32mreturn\u001b[0m \u001b[0m_file_openers\u001b[0m\u001b[1;33m[\u001b[0m\u001b[0mext\u001b[0m\u001b[1;33m]\u001b[0m\u001b[1;33m(\u001b[0m\u001b[0mfound\u001b[0m\u001b[1;33m,\u001b[0m \u001b[0mmode\u001b[0m\u001b[1;33m=\u001b[0m\u001b[0mmode\u001b[0m\u001b[1;33m)\u001b[0m\u001b[1;33m\u001b[0m\u001b[0m\n\u001b[0;32m    500\u001b[0m         \u001b[1;32melse\u001b[0m\u001b[1;33m:\u001b[0m\u001b[1;33m\u001b[0m\u001b[0m\n\u001b[1;32m--> 501\u001b[1;33m             \u001b[1;32mraise\u001b[0m \u001b[0mIOError\u001b[0m\u001b[1;33m(\u001b[0m\u001b[1;34m\"%s not found.\"\u001b[0m \u001b[1;33m%\u001b[0m \u001b[0mpath\u001b[0m\u001b[1;33m)\u001b[0m\u001b[1;33m\u001b[0m\u001b[0m\n\u001b[0m\u001b[0;32m    502\u001b[0m \u001b[1;33m\u001b[0m\u001b[0m\n\u001b[0;32m    503\u001b[0m \u001b[1;33m\u001b[0m\u001b[0m\n",
      "\u001b[1;31mOSError\u001b[0m: /code/data/label.txt not found."
     ]
    }
   ],
   "source": [
    "np.genfromtxt('/code/data/label.txt')"
   ]
  },
  {
   "cell_type": "code",
   "execution_count": 14,
   "metadata": {},
   "outputs": [
    {
     "ename": "FileNotFoundError",
     "evalue": "[Errno 2] No such file or directory: '/code/data/labels.txt'",
     "output_type": "error",
     "traceback": [
      "\u001b[1;31m---------------------------------------------------------------------------\u001b[0m",
      "\u001b[1;31mFileNotFoundError\u001b[0m                         Traceback (most recent call last)",
      "\u001b[1;32m<ipython-input-14-beff55861994>\u001b[0m in \u001b[0;36m<module>\u001b[1;34m()\u001b[0m\n\u001b[1;32m----> 1\u001b[1;33m \u001b[0mnp\u001b[0m\u001b[1;33m.\u001b[0m\u001b[0mgenfromtxt\u001b[0m\u001b[1;33m(\u001b[0m\u001b[1;34m'/code/data/labels.txt'\u001b[0m\u001b[1;33m)\u001b[0m\u001b[1;33m\u001b[0m\u001b[0m\n\u001b[0m",
      "\u001b[1;32mD:\\Anaconda3\\lib\\site-packages\\numpy\\lib\\npyio.py\u001b[0m in \u001b[0;36mgenfromtxt\u001b[1;34m(fname, dtype, comments, delimiter, skip_header, skip_footer, converters, missing_values, filling_values, usecols, names, excludelist, deletechars, replace_space, autostrip, case_sensitive, defaultfmt, unpack, usemask, loose, invalid_raise, max_rows)\u001b[0m\n\u001b[0;32m   1549\u001b[0m                 \u001b[0mfhd\u001b[0m \u001b[1;33m=\u001b[0m \u001b[0miter\u001b[0m\u001b[1;33m(\u001b[0m\u001b[0mnp\u001b[0m\u001b[1;33m.\u001b[0m\u001b[0mlib\u001b[0m\u001b[1;33m.\u001b[0m\u001b[0m_datasource\u001b[0m\u001b[1;33m.\u001b[0m\u001b[0mopen\u001b[0m\u001b[1;33m(\u001b[0m\u001b[0mfname\u001b[0m\u001b[1;33m,\u001b[0m \u001b[1;34m'rbU'\u001b[0m\u001b[1;33m)\u001b[0m\u001b[1;33m)\u001b[0m\u001b[1;33m\u001b[0m\u001b[0m\n\u001b[0;32m   1550\u001b[0m             \u001b[1;32melse\u001b[0m\u001b[1;33m:\u001b[0m\u001b[1;33m\u001b[0m\u001b[0m\n\u001b[1;32m-> 1551\u001b[1;33m                 \u001b[0mfhd\u001b[0m \u001b[1;33m=\u001b[0m \u001b[0miter\u001b[0m\u001b[1;33m(\u001b[0m\u001b[0mnp\u001b[0m\u001b[1;33m.\u001b[0m\u001b[0mlib\u001b[0m\u001b[1;33m.\u001b[0m\u001b[0m_datasource\u001b[0m\u001b[1;33m.\u001b[0m\u001b[0mopen\u001b[0m\u001b[1;33m(\u001b[0m\u001b[0mfname\u001b[0m\u001b[1;33m,\u001b[0m \u001b[1;34m'rb'\u001b[0m\u001b[1;33m)\u001b[0m\u001b[1;33m)\u001b[0m\u001b[1;33m\u001b[0m\u001b[0m\n\u001b[0m\u001b[0;32m   1552\u001b[0m             \u001b[0mown_fhd\u001b[0m \u001b[1;33m=\u001b[0m \u001b[1;32mTrue\u001b[0m\u001b[1;33m\u001b[0m\u001b[0m\n\u001b[0;32m   1553\u001b[0m         \u001b[1;32melse\u001b[0m\u001b[1;33m:\u001b[0m\u001b[1;33m\u001b[0m\u001b[0m\n",
      "\u001b[1;32mD:\\Anaconda3\\lib\\site-packages\\numpy\\lib\\_datasource.py\u001b[0m in \u001b[0;36mopen\u001b[1;34m(path, mode, destpath)\u001b[0m\n\u001b[0;32m    149\u001b[0m \u001b[1;33m\u001b[0m\u001b[0m\n\u001b[0;32m    150\u001b[0m     \u001b[0mds\u001b[0m \u001b[1;33m=\u001b[0m \u001b[0mDataSource\u001b[0m\u001b[1;33m(\u001b[0m\u001b[0mdestpath\u001b[0m\u001b[1;33m)\u001b[0m\u001b[1;33m\u001b[0m\u001b[0m\n\u001b[1;32m--> 151\u001b[1;33m     \u001b[1;32mreturn\u001b[0m \u001b[0mds\u001b[0m\u001b[1;33m.\u001b[0m\u001b[0mopen\u001b[0m\u001b[1;33m(\u001b[0m\u001b[0mpath\u001b[0m\u001b[1;33m,\u001b[0m \u001b[0mmode\u001b[0m\u001b[1;33m)\u001b[0m\u001b[1;33m\u001b[0m\u001b[0m\n\u001b[0m\u001b[0;32m    152\u001b[0m \u001b[1;33m\u001b[0m\u001b[0m\n\u001b[0;32m    153\u001b[0m \u001b[1;33m\u001b[0m\u001b[0m\n",
      "\u001b[1;32mD:\\Anaconda3\\lib\\site-packages\\numpy\\lib\\_datasource.py\u001b[0m in \u001b[0;36mopen\u001b[1;34m(self, path, mode)\u001b[0m\n\u001b[0;32m    497\u001b[0m             \u001b[1;32mif\u001b[0m \u001b[0mext\u001b[0m \u001b[1;33m==\u001b[0m \u001b[1;34m'bz2'\u001b[0m\u001b[1;33m:\u001b[0m\u001b[1;33m\u001b[0m\u001b[0m\n\u001b[0;32m    498\u001b[0m                 \u001b[0mmode\u001b[0m\u001b[1;33m.\u001b[0m\u001b[0mreplace\u001b[0m\u001b[1;33m(\u001b[0m\u001b[1;34m\"+\"\u001b[0m\u001b[1;33m,\u001b[0m \u001b[1;34m\"\"\u001b[0m\u001b[1;33m)\u001b[0m\u001b[1;33m\u001b[0m\u001b[0m\n\u001b[1;32m--> 499\u001b[1;33m             \u001b[1;32mreturn\u001b[0m \u001b[0m_file_openers\u001b[0m\u001b[1;33m[\u001b[0m\u001b[0mext\u001b[0m\u001b[1;33m]\u001b[0m\u001b[1;33m(\u001b[0m\u001b[0mfound\u001b[0m\u001b[1;33m,\u001b[0m \u001b[0mmode\u001b[0m\u001b[1;33m=\u001b[0m\u001b[0mmode\u001b[0m\u001b[1;33m)\u001b[0m\u001b[1;33m\u001b[0m\u001b[0m\n\u001b[0m\u001b[0;32m    500\u001b[0m         \u001b[1;32melse\u001b[0m\u001b[1;33m:\u001b[0m\u001b[1;33m\u001b[0m\u001b[0m\n\u001b[0;32m    501\u001b[0m             \u001b[1;32mraise\u001b[0m \u001b[0mIOError\u001b[0m\u001b[1;33m(\u001b[0m\u001b[1;34m\"%s not found.\"\u001b[0m \u001b[1;33m%\u001b[0m \u001b[0mpath\u001b[0m\u001b[1;33m)\u001b[0m\u001b[1;33m\u001b[0m\u001b[0m\n",
      "\u001b[1;31mFileNotFoundError\u001b[0m: [Errno 2] No such file or directory: '/code/data/labels.txt'"
     ]
    }
   ],
   "source": [
    "np.genfromtxt('/code/data/labels.txt')"
   ]
  },
  {
   "cell_type": "code",
   "execution_count": 15,
   "metadata": {},
   "outputs": [
    {
     "data": {
      "text/plain": [
       "array([ 1., -1.,  1.,  1., -1.,  1.,  1.,  1.,  1.,  1., -1.,  1.,  1.,\n",
       "        1.,  1., -1.,  1.,  1.,  1.,  1.,  1., -1.,  1., -1., -1.,  1.,\n",
       "        1.,  1.,  1.,  1., -1.,  1.,  1.,  1.,  1.,  1.,  1.,  1.,  1.,\n",
       "        1.,  1.,  1.,  1.,  1.,  1.,  1.,  1.,  1.,  1., -1.,  1., -1.,\n",
       "        1.,  1.,  1.,  1.,  1.,  1.,  1.,  1.,  1.,  1., -1., -1.,  1.,\n",
       "        1.,  1.,  1.,  1.,  1., -1.,  1.,  1.,  1.,  1.,  1., -1.,  1.,\n",
       "       -1., -1.,  1.,  1.,  1.,  1.,  1., -1.,  1.,  1.,  1.,  1.,  1.,\n",
       "        1., -1.,  1.,  1.,  1.,  1.,  1., -1.,  1.,  1.,  1., -1.,  1.,\n",
       "        1., -1.,  1.,  1.,  1.,  1.,  1.,  1.,  1.,  1., -1.,  1.,  1.,\n",
       "       -1., -1.,  1.,  1.,  1., -1.,  1., -1., -1., -1., -1.,  1., -1.,\n",
       "        1., -1.,  1.,  1.,  1.,  1.,  1., -1., -1.,  1.,  1.,  1., -1.,\n",
       "        1., -1., -1.,  1.,  1.,  1.,  1., -1.,  1.,  1., -1.,  1.,  1.,\n",
       "       -1.,  1., -1., -1.,  1.,  1., -1., -1., -1.,  1.,  1.,  1.,  1.,\n",
       "        1.,  1.,  1.,  1.,  1.,  1.,  1., -1.,  1.,  1.,  1., -1., -1.,\n",
       "        1.,  1., -1.,  1., -1., -1.,  1., -1.,  1., -1.,  1.,  1.,  1.,\n",
       "        1., -1., -1., -1.,  1.,  1.,  1., -1.,  1.,  1.,  1.,  1.,  1.,\n",
       "        1.,  1.,  1., -1., -1.,  1.,  1.,  1., -1., -1.,  1., -1.,  1.,\n",
       "       -1., -1.,  1.,  1.,  1., -1.,  1.,  1.,  1.,  1., -1.,  1.,  1.,\n",
       "        1.,  1., -1.,  1.,  1., -1.,  1.,  1.,  1.,  1.,  1.,  1.,  1.,\n",
       "       -1.,  1.,  1.,  1.,  1., -1.,  1.,  1.,  1.,  1., -1., -1., -1.,\n",
       "       -1.,  1.,  1.,  1., -1.,  1.,  1.,  1.,  1., -1., -1., -1.,  1.,\n",
       "        1.,  1., -1.,  1.,  1., -1., -1.,  1.,  1.,  1.,  1., -1.,  1.,\n",
       "        1.,  1., -1., -1.,  1.,  1.,  1.,  1.,  1., -1., -1.,  1.,  1.,\n",
       "       -1.,  1.,  1., -1.,  1., -1.,  1.,  1.,  1.,  1.,  1.,  1.,  1.,\n",
       "       -1.,  1.,  1.,  1.,  1.,  1.,  1.,  1., -1.,  1.,  1., -1.,  1.,\n",
       "        1.,  1.,  1.,  1.,  1.,  1.,  1.,  1.,  1.,  1.,  1.,  1.,  1.,\n",
       "        1.,  1.,  1.,  1.,  1.,  1.,  1.,  1.,  1.,  1.,  1., -1.,  1.,\n",
       "        1.,  1.,  1.,  1.,  1.,  1.,  1.,  1.,  1.,  1.,  1.,  1.,  1.,\n",
       "        1.,  1.,  1.,  1.,  1.,  1.,  1., -1.,  1.,  1.,  1.,  1.,  1.,\n",
       "        1.,  1.,  1.,  1.,  1.,  1.,  1.,  1.,  1.,  1.,  1.,  1.,  1.,\n",
       "        1.,  1.,  1.,  1.,  1.,  1.,  1.,  1.,  1.,  1.,  1.,  1.,  1.,\n",
       "        1.,  1.,  1.,  1.,  1.,  1.,  1.,  1.,  1.,  1.,  1., -1., -1.,\n",
       "        1.,  1., -1.,  1.,  1.,  1.,  1.,  1.,  1.,  1.,  1.,  1.,  1.,\n",
       "        1.,  1.,  1.,  1.,  1.,  1.,  1.,  1.,  1.,  1.,  1.,  1.,  1.,\n",
       "        1.,  1., -1.,  1.,  1.,  1., -1.,  1.,  1.,  1.,  1.,  1.,  1.,\n",
       "        1.,  1.,  1.,  1., -1.,  1.,  1., -1.,  1.,  1.,  1., -1.,  1.,\n",
       "       -1.,  1.,  1., -1.,  1.,  1.,  1.,  1.,  1.,  1.,  1.,  1.,  1.,\n",
       "        1.,  1.,  1.,  1.,  1.,  1.,  1.,  1.,  1.,  1., -1., -1., -1.,\n",
       "       -1., -1., -1., -1., -1., -1.,  1., -1., -1.,  1., -1., -1., -1.,\n",
       "       -1., -1., -1., -1., -1., -1., -1., -1.,  1., -1., -1., -1., -1.,\n",
       "       -1., -1., -1., -1., -1., -1., -1.,  1., -1.,  1., -1., -1., -1.,\n",
       "       -1., -1., -1.,  1.,  1., -1., -1., -1., -1.,  1., -1., -1., -1.,\n",
       "       -1., -1., -1., -1., -1., -1., -1., -1., -1., -1.,  1., -1., -1.,\n",
       "       -1., -1.,  1., -1., -1., -1., -1., -1., -1., -1., -1., -1., -1.,\n",
       "       -1.,  1., -1., -1., -1., -1., -1., -1., -1.,  1., -1., -1.,  1.,\n",
       "       -1., -1.,  1., -1.,  1., -1.,  1., -1., -1., -1.,  1.,  1., -1.,\n",
       "        1.,  1., -1., -1.,  1., -1., -1., -1., -1., -1.,  1., -1., -1.,\n",
       "       -1.,  1., -1., -1., -1.,  1., -1.,  1., -1., -1.,  1.,  1.,  1.,\n",
       "        1., -1., -1.,  1., -1., -1.])"
      ]
     },
     "execution_count": 15,
     "metadata": {},
     "output_type": "execute_result"
    }
   ],
   "source": [
    "np.genfromtxt('./code/data/labels.txt')"
   ]
  },
  {
   "cell_type": "code",
   "execution_count": 16,
   "metadata": {
    "collapsed": true
   },
   "outputs": [],
   "source": [
    "a = np.genfromtxt('./code/data/labels.txt')"
   ]
  },
  {
   "cell_type": "code",
   "execution_count": 17,
   "metadata": {},
   "outputs": [
    {
     "ename": "AttributeError",
     "evalue": "'numpy.ndarray' object has no attribute 'dim'",
     "output_type": "error",
     "traceback": [
      "\u001b[1;31m---------------------------------------------------------------------------\u001b[0m",
      "\u001b[1;31mAttributeError\u001b[0m                            Traceback (most recent call last)",
      "\u001b[1;32m<ipython-input-17-e9bb413d27b4>\u001b[0m in \u001b[0;36m<module>\u001b[1;34m()\u001b[0m\n\u001b[1;32m----> 1\u001b[1;33m \u001b[0ma\u001b[0m\u001b[1;33m.\u001b[0m\u001b[0mdim\u001b[0m\u001b[1;33m(\u001b[0m\u001b[1;33m)\u001b[0m\u001b[1;33m\u001b[0m\u001b[0m\n\u001b[0m",
      "\u001b[1;31mAttributeError\u001b[0m: 'numpy.ndarray' object has no attribute 'dim'"
     ]
    }
   ],
   "source": [
    "a.dim()"
   ]
  },
  {
   "cell_type": "code",
   "execution_count": 18,
   "metadata": {},
   "outputs": [
    {
     "ename": "TypeError",
     "evalue": "'tuple' object is not callable",
     "output_type": "error",
     "traceback": [
      "\u001b[1;31m---------------------------------------------------------------------------\u001b[0m",
      "\u001b[1;31mTypeError\u001b[0m                                 Traceback (most recent call last)",
      "\u001b[1;32m<ipython-input-18-c53f4e423b6d>\u001b[0m in \u001b[0;36m<module>\u001b[1;34m()\u001b[0m\n\u001b[1;32m----> 1\u001b[1;33m \u001b[0ma\u001b[0m\u001b[1;33m.\u001b[0m\u001b[0mshape\u001b[0m\u001b[1;33m(\u001b[0m\u001b[1;33m)\u001b[0m\u001b[1;33m\u001b[0m\u001b[0m\n\u001b[0m",
      "\u001b[1;31mTypeError\u001b[0m: 'tuple' object is not callable"
     ]
    }
   ],
   "source": [
    "a.shape()"
   ]
  },
  {
   "cell_type": "code",
   "execution_count": 19,
   "metadata": {},
   "outputs": [
    {
     "data": {
      "text/plain": [
       "(630,)"
      ]
     },
     "execution_count": 19,
     "metadata": {},
     "output_type": "execute_result"
    }
   ],
   "source": [
    "a.shape"
   ]
  },
  {
   "cell_type": "code",
   "execution_count": 20,
   "metadata": {},
   "outputs": [
    {
     "data": {
      "text/plain": [
       "array([ 1., -1.,  1.,  1., -1.,  1.,  1.,  1.,  1.,  1., -1.,  1.,  1.,\n",
       "        1.,  1., -1.,  1.,  1.,  1.,  1.,  1., -1.,  1., -1., -1.,  1.,\n",
       "        1.,  1.,  1.,  1., -1.,  1.,  1.,  1.,  1.,  1.,  1.,  1.,  1.,\n",
       "        1.,  1.,  1.,  1.,  1.,  1.,  1.,  1.,  1.,  1., -1.,  1., -1.,\n",
       "        1.,  1.,  1.,  1.,  1.,  1.,  1.,  1.,  1.,  1., -1., -1.,  1.,\n",
       "        1.,  1.,  1.,  1.,  1., -1.,  1.,  1.,  1.,  1.,  1., -1.,  1.,\n",
       "       -1., -1.,  1.,  1.,  1.,  1.,  1., -1.,  1.,  1.,  1.,  1.,  1.,\n",
       "        1., -1.,  1.,  1.,  1.,  1.,  1., -1.,  1.,  1.,  1., -1.,  1.,\n",
       "        1., -1.,  1.,  1.,  1.,  1.,  1.,  1.,  1.,  1., -1.,  1.,  1.,\n",
       "       -1., -1.,  1.,  1.,  1., -1.,  1., -1., -1., -1., -1.,  1., -1.,\n",
       "        1., -1.,  1.,  1.,  1.,  1.,  1., -1., -1.,  1.,  1.,  1., -1.,\n",
       "        1., -1., -1.,  1.,  1.,  1.,  1., -1.,  1.,  1., -1.,  1.,  1.,\n",
       "       -1.,  1., -1., -1.,  1.,  1., -1., -1., -1.,  1.,  1.,  1.,  1.,\n",
       "        1.,  1.,  1.,  1.,  1.,  1.,  1., -1.,  1.,  1.,  1., -1., -1.,\n",
       "        1.,  1., -1.,  1., -1., -1.,  1., -1.,  1., -1.,  1.,  1.,  1.,\n",
       "        1., -1., -1., -1.,  1.,  1.,  1., -1.,  1.,  1.,  1.,  1.,  1.,\n",
       "        1.,  1.,  1., -1., -1.,  1.,  1.,  1., -1., -1.,  1., -1.,  1.,\n",
       "       -1., -1.,  1.,  1.,  1., -1.,  1.,  1.,  1.,  1., -1.,  1.,  1.,\n",
       "        1.,  1., -1.,  1.,  1., -1.,  1.,  1.,  1.,  1.,  1.,  1.,  1.,\n",
       "       -1.,  1.,  1.,  1.,  1., -1.,  1.,  1.,  1.,  1., -1., -1., -1.,\n",
       "       -1.,  1.,  1.,  1., -1.,  1.,  1.,  1.,  1., -1., -1., -1.,  1.,\n",
       "        1.,  1., -1.,  1.,  1., -1., -1.,  1.,  1.,  1.,  1., -1.,  1.,\n",
       "        1.,  1., -1., -1.,  1.,  1.,  1.,  1.,  1., -1., -1.,  1.,  1.,\n",
       "       -1.,  1.,  1., -1.,  1., -1.,  1.,  1.,  1.,  1.,  1.,  1.,  1.,\n",
       "       -1.,  1.,  1.,  1.,  1.,  1.,  1.,  1., -1.,  1.,  1., -1.,  1.,\n",
       "        1.,  1.,  1.,  1.,  1.,  1.,  1.,  1.,  1.,  1.,  1.,  1.,  1.,\n",
       "        1.,  1.,  1.,  1.,  1.,  1.,  1.,  1.,  1.,  1.,  1., -1.,  1.,\n",
       "        1.,  1.,  1.,  1.,  1.,  1.,  1.,  1.,  1.,  1.,  1.,  1.,  1.,\n",
       "        1.,  1.,  1.,  1.,  1.,  1.,  1., -1.,  1.,  1.,  1.,  1.,  1.,\n",
       "        1.,  1.,  1.,  1.,  1.,  1.,  1.,  1.,  1.,  1.,  1.,  1.,  1.,\n",
       "        1.,  1.,  1.,  1.,  1.,  1.,  1.,  1.,  1.,  1.,  1.,  1.,  1.,\n",
       "        1.,  1.,  1.,  1.,  1.,  1.,  1.,  1.,  1.,  1.,  1., -1., -1.,\n",
       "        1.,  1., -1.,  1.,  1.,  1.,  1.,  1.,  1.,  1.,  1.,  1.,  1.,\n",
       "        1.,  1.,  1.,  1.,  1.,  1.,  1.,  1.,  1.,  1.,  1.,  1.,  1.,\n",
       "        1.,  1., -1.,  1.,  1.,  1., -1.,  1.,  1.,  1.,  1.,  1.,  1.,\n",
       "        1.,  1.,  1.,  1., -1.,  1.,  1., -1.,  1.,  1.,  1., -1.,  1.,\n",
       "       -1.,  1.,  1., -1.,  1.,  1.,  1.,  1.,  1.,  1.,  1.,  1.,  1.,\n",
       "        1.,  1.,  1.,  1.,  1.,  1.,  1.,  1.,  1.,  1., -1., -1., -1.,\n",
       "       -1., -1., -1., -1., -1., -1.,  1., -1., -1.,  1., -1., -1., -1.,\n",
       "       -1., -1., -1., -1., -1., -1., -1., -1.,  1., -1., -1., -1., -1.,\n",
       "       -1., -1., -1., -1., -1., -1., -1.,  1., -1.,  1., -1., -1., -1.,\n",
       "       -1., -1., -1.,  1.,  1., -1., -1., -1., -1.,  1., -1., -1., -1.,\n",
       "       -1., -1., -1., -1., -1., -1., -1., -1., -1., -1.,  1., -1., -1.,\n",
       "       -1., -1.,  1., -1., -1., -1., -1., -1., -1., -1., -1., -1., -1.,\n",
       "       -1.,  1., -1., -1., -1., -1., -1., -1., -1.,  1., -1., -1.,  1.,\n",
       "       -1., -1.,  1., -1.,  1., -1.,  1., -1., -1., -1.,  1.,  1., -1.,  1.])"
      ]
     },
     "execution_count": 20,
     "metadata": {},
     "output_type": "execute_result"
    }
   ],
   "source": [
    "a[:599]"
   ]
  },
  {
   "cell_type": "code",
   "execution_count": 21,
   "metadata": {},
   "outputs": [
    {
     "name": "stderr",
     "output_type": "stream",
     "text": [
      "ERROR:root:File `\"'./code/src/twitter.py'.py\"` not found.\n"
     ]
    }
   ],
   "source": [
    "%run './code/src/twitter.py'"
   ]
  },
  {
   "cell_type": "code",
   "execution_count": 22,
   "metadata": {},
   "outputs": [
    {
     "name": "stderr",
     "output_type": "stream",
     "text": [
      "ERROR:root:File `\"'./code/src/twitter'.py\"` not found.\n"
     ]
    }
   ],
   "source": [
    "%run './code/src/twitter'"
   ]
  },
  {
   "cell_type": "code",
   "execution_count": 3,
   "metadata": {},
   "outputs": [
    {
     "name": "stdout",
     "output_type": "stream",
     "text": [
      "(630, 1811)\n"
     ]
    }
   ],
   "source": [
    "%run ./code/src/twitter.py"
   ]
  },
  {
   "cell_type": "code",
   "execution_count": 3,
   "metadata": {},
   "outputs": [
    {
     "ename": "NameError",
     "evalue": "name 'd' is not defined",
     "output_type": "error",
     "traceback": [
      "\u001b[1;31m---------------------------------------------------------------------------\u001b[0m",
      "\u001b[1;31mNameError\u001b[0m                                 Traceback (most recent call last)",
      "\u001b[1;32m<ipython-input-3-e29311f6f1bf>\u001b[0m in \u001b[0;36m<module>\u001b[1;34m()\u001b[0m\n\u001b[1;32m----> 1\u001b[1;33m \u001b[0md\u001b[0m\u001b[1;33m\u001b[0m\u001b[0m\n\u001b[0m",
      "\u001b[1;31mNameError\u001b[0m: name 'd' is not defined"
     ]
    }
   ],
   "source": [
    "d"
   ]
  },
  {
   "cell_type": "code",
   "execution_count": 13,
   "metadata": {},
   "outputs": [
    {
     "name": "stdout",
     "output_type": "stream",
     "text": [
      "2012, Micheal:This Is it && A Christmas Carol Are Cool Movies\n",
      "\n",
      "2012 was the worst... should''ve saw christmas carol in 3d...\n",
      "\n",
      "a christmas carol. good movie, but some scenes were scary! not a movie for little kids! now, onto watching \"christmas vacation\".\n",
      "\n",
      "A Christmas Carol in 3D is AMAZING! The people look so real!\n",
      "\n",
      "A Christmas carol is possibly the shittest movie ever, I just fell asleep\n",
      "\n",
      "A christmas carol was amazing :) and alice in wonderland looks freaky!!! I'm excited!\n",
      "\n",
      "A Christmas Carol was just great...I love Jim Carrey =)\n",
      "\n",
      "A Christmas Carol was pretty cool...and I looooove 3D!\n",
      "\n",
      "A Christmas Carol was quite heartwarming. No really, this Pixar movie almost made me cry. Now I want Christmas.\n",
      "\n",
      "Also saw Christmas Carol in 3D at the cinema, marvelous implementation of technology and Carrey great, but added little to original story\n",
      "\n",
      "back frm Disney's A Christmas Carol w/ Jim Carey in 3D... it was ok. kinda boring. #achristmascarol\n",
      "\n",
      "breee breee guess what movie i watched??????? christmas carol in 3 d it was awsum lol!!!!!!!!!!!\n",
      "\n",
      "Busy weekend, concert, shopping, movies. Saw Christmas Carol 3D, definite recommend, new take on old classic...scary bits 4 little kids tho!\n",
      "\n",
      "@chrisaunders stoooopit shoulda saw christmas carol 3d so good.\n",
      "\n",
      "christmas carol...i liked\n",
      "\n",
      "Christmas Carol was kind of the sheeeit. Fyi.\n",
      "\n",
      "@DaleNSebat just saw Christmas carol in 3d with Erin! Was awesomeeeeee! How r u? Tell Heidi good luck with the new Job ;)\n",
      "\n",
      "Did the whole city see rush to 2012 this weekend? Fully sold out Sat. when I tried. Saw Christmas Carol instead. Amazing effects, no heart.\n",
      "\n",
      "Elaine & I and Becca, Mikki, and Jason went to see A Christmas Carol (Jim Carrey) at the IMAX theater in 3D, then had pizza.  Was awesome!\n",
      "\n",
      "Everyone needs to see \"A Christmas Carol\" in 3D!!!  It is worth the extra $2!  Amazing!  It looked like the snow was falling in the theater!\n",
      "\n",
      "Finally saw Law Abiding Citizen - the bomb! Also saw Christmas Carol - Jim Carey was his absolute best! Great movie day!\n",
      "\n",
      "had an alright night, christmas carol was lame\n",
      "\n",
      "Happy Friday to all! Saw Christmas Carol 3D IMAX last night... amazing.\n",
      "\n",
      "I can't believe I just spent $16 on A Christmas Carol shoot\n",
      "\n",
      "I don't think I liked the new Christmas Carol movie much at all. Can they just re-release A Muppet's Christmas Carol? I loved that one!\n",
      "\n",
      "If you haven't seen @JimCarrey 's new movie \"A Christmas Carol\" what are you waiting for? Best Movie I've seen all year.  Excellent work sir\n",
      "\n",
      "I just saw A Christmas Carol. It was great!! :)\n",
      "\n",
      "@imaxbirmingham saw Christmas carol tonight, defo 5 stars! We all loved it!\n",
      "\n",
      "I'm just chill'in with my BFF Kiersten. . . We went to see a Christmas Carol. . . And might I say It was so So SO AWESOME! You MUST go c it!\n",
      "\n",
      "I SAW CHRISTMAS CAROL LAST WEEK PRETTY GOOD MOVIE AND MEN WHO STAIR AT GOATS PRETTY TOO.\n",
      "\n",
      "I went to see, \"A Christmas Carol\" over the weekend and did not like it. Not my cup if tea.\n",
      "\n",
      "@Jescalese saw Christmas Carol w/ Richardson and his GF...it was awesome...\n",
      "\n",
      "@JimCarret I just got home from seeing The Christmas Carol in 3D, it was amazing!! Job well done!!\n",
      "\n",
      "@jimcarrey I just saw Christmas Carol and I love you\n",
      "\n",
      "@jimcarrey  Just saw Christmas Carol in 3D. Totally Awesome Jim! You are so multi-talented. Loved the new twist to the movie. Fun! Fun!\n",
      "\n",
      "@JimCarrey just saw Christmas Carol in IMAX3D...The CG thing had me skeptical but you were still YOU..Everyone needs to watch this!\n",
      "\n",
      "@JonathanRKnight  it''s a good nite so far...saw Christmas Carol and it was great!  doin some xmas shopping...drinkin a starbucks\n",
      "\n",
      "@Julianna237 I am soooo glad I saw Christmas Carol in 3D and I saw previews of Alice in WOnderland in 3 D too wooootoooooo\n",
      "\n",
      "Just  came back from the movies sittin in walgreen parkin lot saw Christmas Carol Lol Good one though got my hair cut too haha finally!!!!!!\n",
      "\n",
      "Just got back from the movies with Bree, Jelly Bean, Noo-Noo, Chopper, and Kurt. We saw Christmas Carol in IMAX 3D. It. was. AWESOME!!\n",
      "\n",
      "just got home from seeing a christmas carol in 3d, so good. had fun with @MarcusIsLegend and his mommy.\n",
      "\n",
      "just got out of the movies. Saw 'A Christmas Carol\"! I thought it was really good! I did get scared at some parts! : ) anyone else see it?\n",
      "\n",
      "Just saw 2012 & christmas carol good movies (SDP&Jay)\n",
      "\n",
      "Just saw Christmas Carol..Great Movie!!\n",
      "\n",
      "Just saw Christmas Carol in 3D! Sooo fun!\n",
      "\n",
      "Just saw Christmas Carol in IMAX 3D - FREAKIN'' AMAZING!!  One of my favorite stories ever made just...incredible!  The only way to see it!\n",
      "\n",
      "just saw christmas carol is was so good\n",
      "\n",
      "Just saw christmas carol it was good i enjoyed it lol still sick though going to japanese tonight yumm\n",
      "\n",
      "Just saw Christmas Carol, Jim Carrey is AWESOME!\n",
      "\n",
      "Just saw Christmas Carol... kind of a disappointment. It was actually really really scary! NOT a kids movie :(\n",
      "\n",
      "Just saw Christmas carol & loved it!\n",
      "\n",
      "just saw christmas carol...that movie is so damn weird....\n",
      "\n",
      "Just saw Christmas Carol with Jim Carrey.  It was awesome.\n",
      "\n",
      "Just saw Christmas Carol with @_KaylaK @janahainey. innnnnteresting.\n",
      "\n",
      "just saw christmas carol with mommy.. soo cute !.. going to nasis soon cant waittt\n",
      "\n",
      "Just saw Christmas Carol with the family good good movie. Very cute. I recommend seeing it. Lol\n",
      "\n",
      "just saw Disneys Christmas Carol with @mom2mopsy. I really liked it. The CG was magnificent.\n",
      "\n",
      "just watched Christmas Carol in 3D!!!!! good stuff!\n",
      "\n",
      "Just watched christmas carol in 3D.  Great experience.\n",
      "\n",
      "Just watched Christmas Carol open captioned. What a ride! The best Carol movie ever, IMHO.\n",
      "\n",
      "LOVED A Christmas Carol...I found it at www.watchfreelinks.com check it out!\n",
      "\n",
      "loved \"A Christmas Carol\"...reminds you to keep the Christmas spirit all year :)\n",
      "\n",
      "New Christmas Carol is creepy. Don't bring your kids.\n",
      "\n",
      "@NICK__KAY I saw Christmas carol... It was dark, slow, n kinda scary... But Jim Carry is talented!!! All those voices...\n",
      "\n",
      "@notsostilllifes Agreed, so you were off yesterday? We saw Christmas Carol which was fairly good.\n",
      "\n",
      "@Radioblogger @dcatlin wants to know if  you saw Christmas Carol today-she thought it was awesome #Marleysghost #hhrs\n",
      "\n",
      "RT @BIGWAYDEGNS  good movies out?  (I just saw christmas carol w/ jim carrey. the 3-D is cool. go high)\n",
      "\n",
      "RT RT @timastevens: Just saw Christmas Carol in 3D with the family. A good flick...well done.// Could not agree more!!! Amazingly well done.\n",
      "\n",
      "RT @Thurman86: Just watched christmas carol in imax, it was great, noe eating messican food\n",
      "\n",
      "RT @timastevens: Just saw Christmas Carol in 3D with the family. A good flick...well done.// Could not agree more!!! Amazingly well done.\n",
      "\n",
      "Saw \"2012\" and \"christmas carol\" last night with marianne. 2012=bad acting+sucky storyline+looks cool. Christmas carol=boring. Wait for dvd\n",
      "\n",
      "Saw A Christmas Carol.  It was great!\n",
      "\n",
      "Saw A Christmas Carol tonight. I actually really liked it. The animation was fantastic and it was kinda dark.\n",
      "\n",
      "Saw Christmas Carol 2day... Well worth seeing in 3D! It is an amazing film and will be one of my favs next to Elf and It''s a Wonderful Life\n",
      "\n",
      "Saw Christmas Carol 3D. Great version. Jim Carrey excellent. The ghosts could have used a bit more characterisation, but very enjoyable 8/10\n",
      "\n",
      "Saw Christmas Carol 3D with Lauren, Allyson, Kathy, Lindsey, Austin, and Jeremy! Sooo fun! Love time with my theatre kids:))\n",
      "\n",
      "saw Christmas Carol 3D with the family. not a good movie for little kids. very scary at times. the 3D effects were pretty amazing though.\n",
      "\n",
      "Saw Christmas Carol!! Amazing 3D. And Ro was awesome..such a little movie buff at 3! Not scary 4 her! Went with some cool peeps! free tix!\n",
      "\n",
      "saw Christmas Carol and wasn''t too impressed.  That''s a lot of Jim Carrey.  Made BBQ ribs tonight and the kids all loved it!\n",
      "\n",
      "Saw Christmas Carol-i give it a 5. Kinda boring. I never like knowing the endings tho!! Fun time with the fam tho! Enjoyed it!!\n",
      "\n",
      "Saw Christmas Carol. I liked and the boys like it. Molly and Makiah not so much. Very dark.\n",
      "\n",
      "Saw Christmas Carol @IMAX in 3D.  STUNNING!!!  About to plan persuasive unit for Y6 using Avatar trailer!\n",
      "\n",
      "Saw Christmas Carol (in 3D) earlier this evening. Attention to detail in texture and lighting is magnificant.\n",
      "\n",
      "saw christmas carol in 3d last night:)it was fantastic\n",
      "\n",
      "Saw Christmas Carol in 3D last nite, it wasn''t that bad at all, actually it was quite enjoyable!\n",
      "\n",
      "saw christmas carol in 3D last nite. not as much fun as they make you think.\n",
      "\n",
      "Saw Christmas Carol in 3D this weekend! Jim Carrey was amazing! What a great movie.I''m in such a Christmas spirit, I''m ready to sing carols!\n",
      "\n",
      "saw Christmas Carol in 3D today. it was good.\n",
      "\n",
      "Saw Christmas Carol in IMAX 3D. I was expecting meh, and I got a fantastic film!  A score that had classic XMas carols made it even better!\n",
      "\n",
      "Saw Christmas Carol last night and was very pleased. Stayed true to the story and added some humor. Don''t bother with the 3-D.\n",
      "\n",
      "Saw Christmas Carol last night... pretty good! totally worth seeing in the theater...\n",
      "\n",
      "saw christmas carol pritty cool lol who 2 pic\n",
      "\n",
      "Saw Christmas Carol. That should NOT be a PG! Freaky shiiiit!\n",
      "\n",
      "saw christmas carol today, it''s a cute movie\n",
      "\n",
      "saw christmas carol yestaday wif the fam....it was gud\n",
      "\n",
      "Saw Disney's A Christmas Carol in IMAX 3-D today. Loved it.\n",
      "\n",
      "shouts:saw Christmas cArol, it was good ^__^* tuday was fun :D\n",
      "\n",
      "Spent time with my favorite vet....I love him soooooo much....today and saw Christmas Carol....it was good\n",
      "\n",
      "@SquidDreams Disney's Christmas Carol. Creepy shit, honestly.\n",
      "\n",
      "@SquidDreams In which one? Christmas Carol? Yes there was. It was really cool... Mind, this was my first. Still really cool.\n",
      "\n",
      "The 3D and visuals in A Christmas Carol are stunning. And the film ain't half bad either. Bizarre, creepy, and joyous!\n",
      "\n",
      "The box was a waste of time. A Christmas carol rocked!!!!\n",
      "\n",
      "the movie was sold out so we just saw christmas carol it was boring coment neww pikks\n",
      "\n",
      "@trinity929 A Christmas Carol... Highly recommend it! I havent seen it but the previews were awesome!\n",
      "\n",
      "Watched A Christmas Carol today with my family ^_^ I liked it.\n",
      "\n",
      "Watched Christmas Carol in IMAX 3D on her last night in Calgary. Dissapointed with the movie. Not recommend for a Christmas movie.\n",
      "\n",
      "Watched Christmas Carol. Jim Carey made a great Scrooge. Amazing CGI. Stuck pretty close 2 the Dickens story. Kids dug it 2. Overall: B\n",
      "\n",
      "watching bridezillas! there meann!!soo today i went to the mall saw a christmas carol w/my lil bro it was pretty good\n",
      "\n",
      "went and saw Christmas Carol in 3D.  Jim Carey plays a good Scrooge.\n",
      "\n",
      "went and saw christmas carol is was very good\n",
      "\n",
      "went and saw the christmas carol movie a little scary but it was a great movie\n",
      "\n",
      "Went to see \"A Christmas Carol\" Saturday and found it to be great. A must see film.\n",
      "\n",
      "Went to see the Christmas Lights turning on today.  And also saw Christmas Carol in 3D, it''s a great movie. I reccomend it. :P\n",
      "\n",
      "went to the movies with casey <3 we saw christmas carol. he, i mean, it was cutee lol\n",
      "\n",
      "went to the movies with erics mom and sister. Saw \"A Christmas Carol.\" that movie is not for kids. its creepy. [[DEVOTED <33]]\n",
      "\n",
      "We saw Christmas Carol in 3D, AMAZING!!!!! Can''t wait for Alice in wonderland in 3D\n",
      "\n",
      "What''s up guyz?? It''s been wayyyy too long. I just saw Christmas Carol 3D and it was freakin awesome!\n",
      "\n",
      "@adamwalton Hope u have good show - just back from cinema, Men Who Stare At Goats, threw popcorn everywhere, left a little disappointed!\n",
      "\n",
      "@AddressingYou Dear George Clooney Saw Men Who Stare At Goats. Yeah no, it sucked donkey ass. Here let me provide you my addy for refund...\n",
      "\n",
      "aight gonna have a look tonite RT @MrHudson: just watched \"men who stare at goats\". extremely amusing\n",
      "\n",
      "back from \"The Men Who Stare At Goats\"... a pleasant, gentle, funny film. Glad I went to it. :)\n",
      "\n",
      "Been out with the boys at cinema.Saw The Men Who Stare At Goats.Very interesting.Gonna read the book I think.\n",
      "\n",
      "Call Of Duty Is Quality. Saw 'The Men Who Stare At Goats' Today. Awful Movie\n",
      "\n",
      "@concettasidoti Saw preview, looks good. Just saw Men who Stare at Goats. Mildly diverting w great performances from McGregor and Clooney\n",
      "\n",
      "Did not care for \"The Men Who Stare at Goats\"\n",
      "\n",
      "do not see the men who stare at goats its a crappy movie\n",
      "\n",
      "DO NOT watch the men who stare at goats... Its a waste of money... Utterly...\n",
      "\n",
      "Due to the crap times seeing the men who stare at goats-it was my 5th choice\n",
      "\n",
      "Going to see 'Men Who Stare At Goats'. This should be awesome.\n",
      "\n",
      "Going to the cinema tonight with Andy, hopefully the film we see will be better than Men Who Stare at Goats or Public Enemies... what trash!\n",
      "\n",
      "go see \"The Men who Stare at Goats\" was great!\n",
      "\n",
      "Great day..shopped, ate Japanese food and saw Men Who Stare at Goats (not blown away..)\n",
      "\n",
      "Hanging with Adam. Saw Men Who Stare At Goats... Good movie!\n",
      "\n",
      "has just watched men who stare at goats and it was quite amusing lol\n",
      "\n",
      "Have seen Men Who Stare At Goats. It's pretty awesome. There were some cool trailers for things I don't remember now.\n",
      "\n",
      "i actually liked the men who stare at goats. if you like the big lebowski then you would like this movie\n",
      "\n",
      "I enjoyed The Men Who Stare At Goats highly.\n",
      "\n",
      "If you asked me what Men Who Stare at Goats was about, I couldn't tell you...it was THAT random!\n",
      "\n",
      "If you feel like wasting your time go see Men Who Stare at Goats.\n",
      "\n",
      "i saw men who stare at goats. IT WAS FANTASTIC. i loved it\n",
      "\n",
      "I saw Men Who Stare at Goats last night - a wonderful movie that approaches deeply profound ideas in a very entertaining way. Great cast!\n",
      "\n",
      "i saw men who stare at goats. thought it was pretty good. lots of great performaces. movie was pretty funny\n",
      "\n",
      "I saw men who stare at goats tonight. Very weird movie. I can''t say much else. You should probably see it though.\n",
      "\n",
      "I saw the men who stare at goats yesterday. omfg amazing\n",
      "\n",
      "I want 93 minutes of my life back after sitting through Men Who Stare at Goats.  No idea what possessed us to see that steaming dung heap...\n",
      "\n",
      "I was going to watch that tomorrow RT @TheresnoSpoon: Just saw Men Who Stare At Goats. Odd movie\n",
      "\n",
      "Just been to see Men Who Stare at Goats w/ @MJWells and Crawf. Very Coen-esque. Worth a watch.\n",
      "\n",
      "Just got back from seeing The Men Who Stare At Goats in Basingstoke. Good film, quite enjoyable to watch.\n",
      "\n",
      "Just got out of 'Men Who Stare at Goats.' Cute movie.\n",
      "\n",
      "Just saw men Who stare at goats. Absolutely Brilliant! #Twitcritics\n",
      "\n",
      "just saw men who stare at goats and even though it had some funny parts in general it was still a complete crapfest\n",
      "\n",
      "just saw men who stare at goats.  Good movie.\n",
      "\n",
      "Just saw Men who stare at goats.  I found it quite hilarious.  GF... not so much.  Totally my kind of humour.\n",
      "\n",
      "Just saw men who stare at goats. I think that I was missing something. Lame!\n",
      "\n",
      "Just saw Men Who Stare at Goats. I thought it was pretty funny, and it makes you wonder how much if that stuff is true.\n",
      "\n",
      "Just saw Men Who Stare at Goats. It was funny, still recovering from last night\n",
      "\n",
      "Just saw Men Who Stare at Goats... it was so bad that it was okay... feels like a cult movie that people will love for no logical reason.\n",
      "\n",
      "just saw men who stare at goats it was truly the most amazing movie about nothing i have ever seen.\n",
      "\n",
      "Just saw Men Who Stare at Goats. I want that 90 minutes of my life back please.\n",
      "\n",
      "Just saw Men Who Stare at Goats. My word, but that was silly.\n",
      "\n",
      "Just saw \"men who stare at goats\", pretty funny and definitely a good movie...\n",
      "\n",
      "Just saw \"men who stare at goats\", pretty funny and definitely a good movie... - Foster City - CA\n",
      "\n",
      "Just saw Men who stare at goats. Skip it. Could have been great, but completely missed the mark.\n",
      "\n",
      "just saw men who stare at goats.... unimpressed. now for some wii force unleashed.\n",
      "\n",
      "Just saw Men Who Stare at Goats, utter silliness, I see lots of quoting and cult movie viewing in its future.\n",
      "\n",
      "Just saw Men who stare at goats. Very awesome. Now for sushi\n",
      "\n",
      "Just saw the men who stare at goats, awesome!\n",
      "\n",
      "Just saw The Men Who Stare at Goats. Lots of fun. I wanna be a Jedi Warrior.\n",
      "\n",
      "Just saw The Men who Stare at Goats. Mildly diverting w great performances from McGregor and Clooney, but not particularly satisfying\n",
      "\n",
      "Just seen Men who stare at goats and I liked it wasn't bad at all. Kept me laughing through the whole movie.\n",
      "\n",
      "Just watched Men who stare at goats and it was brilliant! 5 out of 5 goats\n",
      "\n",
      "Just watched men who stare at goats. So hilarious Georege Clooney was amazing\n",
      "\n",
      "@LadyCOOURRTNEYY I watched The Men Who Stare At Goats today. That was really good. Not typical \"mainstream\". Most people won't like it\n",
      "\n",
      "@lakoist We saw men who stare at goats in Leicester Square.  Funny.  Whaddya think?  \"The Force is Strong With This One\"\n",
      "\n",
      "loved men who stare at goats\n",
      "\n",
      "@matronedea Men Who Stare At Goats, Great!!\n",
      "\n",
      "Men Who Stare at Goats disappointed-some good and/or funny parts but overall C+ or so. Would have been C, but they made fun of Reagan, so C+\n",
      "\n",
      "Men Who Stare at Goats--Funny. I s it my imagination or does Clooney star in an abnormal number of male-casted movies?\n",
      "\n",
      "Men who stare at goats= great movie!\n",
      "\n",
      "Men who stare at goats great movie\n",
      "\n",
      "men who stare at goats has goat to be the worst film in a weeee bit like!!\n",
      "\n",
      "Men Who Stare At Goats is absurdly funny.  That is all.\n",
      "\n",
      "Men Who Stare At Goats is excellent! Hilarious and well-acted.\n",
      "\n",
      "Men Who Stare At Goats is fanfreakingtastic.\n",
      "\n",
      "Men who stare at goats is such a shitty movie! Lol\n",
      "\n",
      "Men who stare at Goats = must see. Very intelligent social commentary film. Sadly, I doubt most ppl get it. It's really good.\n",
      "\n",
      "men who stare at goats needed to be funnier. slight disappointment there.\n",
      "\n",
      "Men Who Stare at Goats - not good. rather insulting.\n",
      "\n",
      "Men Who Stare at Goats rocked!\n",
      "\n",
      "Men Who Stare at Goats: The kind of movie that makes you ask \"wasn't there something better to spend their time/money on?\" Pointless film.\n",
      "\n",
      "Men Who Stare at Goats.Unique movie.Scene where they drive suburbans into Ramadi reminded me of a day in Dec 06 in J-bad, AFG.\n",
      "\n",
      "Men who stare at goats, very! Strange, i would rather see the stepfather. But new moon comes out next week and i plan on seeing it.\n",
      "\n",
      "Men Who Stare at Goats very worthwhile film. Final scene, doubly so.\n",
      "\n",
      "Men Who Stare at Goats was a lot of fun. Had a really tough day with the mules today, but will try one more thing before I hang up my hat.\n",
      "\n",
      "Men Who Stare at Goats, was a strange but qurky movie... I sorta recomend it?\n",
      "\n",
      "Men Who Stare at Goats was awesome. Kicking ass now at darts @ the Saucer.\n",
      "\n",
      "Men Who Stare at Goats was..... bizarre to say the least\n",
      "\n",
      "men who stare at goats was dull. Ribena is tasty. #unrelated\n",
      "\n",
      "Men who stare at goats was interesting...but also kind of a let down...\n",
      "\n",
      "men who stare at goats was nice x) ..just wanna read the book now thooo.. g'nite!\n",
      "\n",
      "Men Who Stare At Goats was pretty funny.  We enjoyed it.\n",
      "\n",
      "Men who stare at goats was really good. Also George Clooney should play Walt Disney if thwey ever make a bio pic.\n",
      "\n",
      "Men who stare at goats was terrible. Hippie army men? Eh...\n",
      "\n",
      "men who stare at goats was weird yet brilliant. Kinda want 2 get drunk now!\n",
      "\n",
      "More training miles in the legs this weekend. Prepping to go for dinner w/ friends. Men Who Stare at Goats is a good movie. Go see it.\n",
      "\n",
      "movie day double feature done. saw men who stare at goats (silly) and the damned united (fantastic). off to rancho for Amos the transparent.\n",
      "\n",
      "must see The Men Who Stare at Goats\n",
      "\n",
      "My brother shot things on MW2 and I saw Men Who Stare At Goats. Awesome movie by the way. I loved its charm.\n",
      "\n",
      "Now singing \"More than a Feeling\" cuz we just saw Men Who Stare at Goats. I like George Clooney when he does these kinds of parts.\n",
      "\n",
      "Official ruling...the men who stare at goats was soooo good!!!!!!\n",
      "\n",
      "Oh, hey, everyone should totally go see \"The Men Who Stare at Goats\" cause its ten tons of funny.\n",
      "\n",
      "okay never never EVER see \"men who stare at goats\" it's a waste of money and a couple hours of your life you can never get back. rawr. >:(\n",
      "\n",
      "Okay, so if someone says you either have to go see The Men Who Stare at Goats or jump into traffic.....jump into traffic.\n",
      "\n",
      "omg i saw men who stare at goats yesterday and it was soooo funny who ever didnt see it yet go see it its sooooo funny\n",
      "\n",
      "Playing some catchup today. MEN WHO STARE AT GOATS is a hodgepodge of brilliance and awkward. Now on to see the world end Emmerich style.\n",
      "\n",
      "REALLY enjoyed Men Who Stare at Goats-Army's exploration of psychic skills, + creating \"jedi\" warriors. Funny+enlightening, w/lot o truth\n",
      "\n",
      "RT @JamesAkersJr: \"That movie SUCKED!\" - Jeremy after we watched Men Who Stare At Goats\n",
      "\n",
      "RT @JasonSandquist    save yo money, \"the men who stare at goats\" is quite possibly one of the worst movies every produced\n",
      "\n",
      "RT @MrHudson just watched \"men who stare at goats\". extremely amusing \n",
      "\n",
      "save yo money, \"the men who stare at goats\" is quite possibly one of the worst movies every produced\n",
      "\n",
      "Saw Men Who Stare at Goats. Amusing. Worth giggling at. Ewan McGregor learns to be a Jedi at last.\n",
      "\n",
      "saw Men Who Stare at Goats and it sucked. Do not see it.\n",
      "\n",
      "Saw \"Men Who Stare At Goats\", but don't recommend it. I fell asleep. Only 4 of us in the theater.\n",
      "\n",
      "saw Men Who Stare At Goats. Fun film, though wish they''d used some of @jonronson ''s orginal footage. Loom room tonight!\n",
      "\n",
      "Saw Men Who Stare at Goats... FUNNY movie! Ewan McGregor was seeeeexy!\n",
      "\n",
      "Saw Men Who Stare At Goats. Good For a Giggle and typical Jon Ronson\n",
      "\n",
      "Saw Men Who Stare At Goats. It was....kinda dumb. But at least I didn''t have to see The Fourth Kind. *shudder*\n",
      "\n",
      "Saw Men Who Stare at Goats last night.......brilliant! Oh and spent time with my favourite lady.....and had weird dreams!\n",
      "\n",
      "saw Men who stare at goats last night.  good film, made better by some good tache action. Trailer here: http://is.gd/4Tfwd #movember\n",
      "\n",
      "Saw Men Who Stare at Goats last night.  Loved it!\n",
      "\n",
      "Saw Men Who Stare At Goats last night.Quite Funny.\n",
      "\n",
      "Saw Men Who Stare at Goats. So much wasted potential.\n",
      "\n",
      "Saw \"Men who stare at goats\", that was AWESOME!!! I laughed soooooo much, great movie <3\n",
      "\n",
      "Saw MEN WHO STARE AT GOATS.  The goats were great!\n",
      "\n",
      "Saw Men Who Stare At Goats this week. Enjoyable film, but felt dramatisation detracted from jaw dropping revelations of the book.\n",
      "\n",
      "Saw Men Who Stare at Goats today - It was funny, weird, strange, I enjoyed it. Then again, practically anything starring Clooney I''ll watch.\n",
      "\n",
      "Saw Men Who Stare At Goats today w/ the husband. Disappointing w/ poorly dev. chars. It felt as if about half an hour of movie was missing\n",
      "\n",
      "Saw Men Who Stare At Goats tonight. A lot better than studying. Glad to get my mind off things for a while.\n",
      "\n",
      "Saw Men Who Stare at Goats tonight. Entertaining and George Clooney and Ewan McGregor were great. One of my favourite Ewan performances.\n",
      "\n",
      "Saw Men Who Stare at Goats tonight.  I expected it to be better.  Either I''ve got to lower expectations, or find better movies to go to.\n",
      "\n",
      "Saw Men who stare at Goats tonite. Really liked it. The jedi stuff was funny w/ Ewan McGregor in the movie.\n",
      "\n",
      "saw Men Who Stare at Goats. Unexpectedly enjoyed that a lot more than I thought I would even though it was an absurdist comedy.\n",
      "\n",
      "Saw Men Who Stare At Goats. Very funny!!\n",
      "\n",
      "Saw Men Who Stare At Goats. Very good, acting was outstanding, as you might well expect. Lots of funny moments. Story starts in Ann Arbor!\n",
      "\n",
      "saw men who stare at goats with mom,,, hallarious\n",
      "\n",
      "Saw Men who stare at goats yesterday, a very strange, but somehow really nice film.  Out of place, or space?\n",
      "\n",
      "Saw Men Who Stare at Goats yesterday, good flick ! Heading to a barnyard to practice.....\n",
      "\n",
      "saw men who stare at goats yesterday:|, it was rubbish=/\n",
      "\n",
      "Saw Men Who Stare At Goats yesterday (rather good and amusing) and 2012 today (brilliantly mega epic). Good weekend!\n",
      "\n",
      "Saw the film \"Men who stare at Goats\" last week. Loved Jeff Bridges\n",
      "\n",
      "Saw \"The Men Who Stare at Goats\". Really good movie. Got me thinking. Thinking about things completly unrelated to the movie.\n",
      "\n",
      "saw the men who stare at goats - too short and really random with some funny parts... i loved it\n",
      "\n",
      "saw the men who stare at goats... total rip off.. that movie was stupid except for one part. i'm mad now, but at least i went shopping after\n",
      "\n",
      "Saw the Men Who Stare At Goats written by #jonronson it's a lovely film I wasn't prepared for the appearance of Barney though\n",
      "\n",
      "Saw \"The Men Who Stare at Goats\" yesterday. Was actually pretty funny.\n",
      "\n",
      "saw the movie men who stare at goats  funny movie\n",
      "\n",
      "Saw the movie, Men Who Stare at Goats. I am at once puzzled and awed. Feel like I need to see it again. And do some research.\n",
      "\n",
      "@scottybomb at least Men Who Stare at Goats us doing well? I can't believe people pay to see CGI and bad acting... wait, actually I can.\n",
      "\n",
      "Sitting through the film \"Men Who Stare At Goats\" was almost as painful as ... staring at goats. FAIL!!! #menwhostareatgoats #fail\n",
      "\n",
      "So I just saw Men Who Stare At Goats.  One word- Odd.\n",
      "\n",
      "so...Men Who Stare At Goats...hated it.\n",
      "\n",
      "So...Men Who Stare At Goats...May be the funniest movie I've seen all year. (I say that 'cause I'm seeing New Moon this Thursday...Snoogins)\n",
      "\n",
      "The limber mind is a must for adequate enjoyment of many things, including Men Who Stare At Goats! I loved it!\n",
      "\n",
      "The Men Who Stare At Goats... Ace!!! Really enjoyed it! I want to be a special forces Jedi Warrior :D Maybe I already am :|\n",
      "\n",
      "The Men Who Stare at Goats..............a complete letdown\n",
      "\n",
      "the men who stare at goats amusing. kept waiting for the cheap shot of Obi-wan during all the Jedi talk. didn't come.\n",
      "\n",
      "The Men Who Stare At Goats: brilliant, funny, crazy. How Clooney and McGregor managed to keep their faces straight, we can only guess.\n",
      "\n",
      "The men who stare at goats...excellent if a little wacky..lots of laughs followed by a Nandos and a large glass of wine. Happy Sunday x\n",
      "\n",
      "The Men Who Stare at Goats = fantastically funny movie in that brilliantly self-aware sort of way\n",
      "\n",
      "The men who stare at goats is no good!!!!!  Bad movie.     I hope the road is better.\n",
      "\n",
      "The Men Who Stare at Goats isn't very good at all..\n",
      "\n",
      "The men who stare at goats is probably one of the worst films ive ever seen...\n",
      "\n",
      "The Men Who Stare at Goats is probably the first comedy ive seen twice in theaters. loved it!\n",
      "\n",
      "The Men Who Stare At Goats is the best movie that stars Ewan McGregor and Jedis.\n",
      "\n",
      "The Men Who Stare at Goats is very funny.\n",
      "\n",
      "The men who stare at goats kinda blew. Bummer\n",
      "\n",
      "The Men Who Stare at Goats should be one heck of a funny movie. Imagine killing a goat by staring at it.\n",
      "\n",
      "THE MEN WHO STARE AT GOATS - Stellar cast can't elevate this comedy above \"where's the motivation?\" though has a number of laughs. #movies\n",
      "\n",
      "The men who stare at goats us very ridiculous\n",
      "\n",
      "The Men Who Stare at Goats was a disappointment.  But New Moon on Thursday night is going to be SWEET!\n",
      "\n",
      "'the men who stare at goats' was amusing...but I still want to see 'an education'...a coming of age story in sixties london? irresistible.\n",
      "\n",
      "The Men Who Stare at Goats was even stranger than I expected. Worth watching, I would say.\n",
      "\n",
      "The Men Who Stare at Goats was great! Cast was awesome! Sooo funny!!!\n",
      "\n",
      "The Men Who Stare At Goats was hilarious :D\n",
      "\n",
      "the men who stare at goats was horrible, dont see it.....back to watching the big bang theory.\n",
      "\n",
      "The Men Who Stare at Goats was pretty funny.\n",
      "\n",
      "The Men Who Stare At Goats was pretty funny\n",
      "\n",
      "The Men Who Stare At Goats was pretty good\n",
      "\n",
      "Thrilled and surprised to see @RhysieDarby in Pirate Radio!  Great movie, go see it, skip Men Who Stare at Goats.\n",
      "\n",
      "@TinaMW    Saw Men Who Stare at Goats last weekend. Awful movie // Dang it, I was looking forward to another George Clooney comedy.\n",
      "\n",
      "tired, gr8 day, saw MEN WHO STARE AT GOATS (2 thumbs up), hung w/family, my gr8 cousin and aaron :D\n",
      "\n",
      "@Totalbiscuit Did you see Men Who Stare At Goats in the end? Personally I think I liked it, but not entirely sure, needs a rewatch on dvd.\n",
      "\n",
      "Watched Men Who Stare at Goats. Amusing, cute & Ewan McGregor. Didn''t really have a plot. Glad I was drinking beer while watching it.\n",
      "\n",
      "Watched Men who stare at goats. It was an ummm entertaining movie.\n",
      "\n",
      "Watched Men Who Stare at Goats.  It was as exciting as staring at goats. #fb\n",
      "\n",
      "Watched Men Who Stare At Goats. Not as good as I was expecting. Some guy in the cinema found it very funny tho. I was happy for him. :)\n",
      "\n",
      "Watched Men Who Stare At Goats. Odd, campy, funny, not a masterpiece, almost too silly. Flower jedi ending. Spacey channeling, \"tin cup\" Ha!\n",
      "\n",
      "Watched \"The men who stare at goats\" at the cinema last night.  Very funny\n",
      "\n",
      "watched the men who stare at goats..fantastic stoner flick! :)\n",
      "\n",
      "watched the  most stupid movie of my life..men who stared at goats..dont even stare at this film poster..2 hours of torture\n",
      "\n",
      "went and saw men who stare at goats with mom, I give it a thumbs up!\n",
      "\n",
      "Went and saw The Men Who Stare At Goats. Freaking great movie.\n",
      "\n",
      "Went on a date tonight with my lover. The men who stare at goats.....dumb. Walked out after the first 20 minutes. Went to Gameworks instead!\n",
      "\n",
      "Went to Men Who Stare at Goats.  Remote viewing is pretty standard in my line of work so I found the  story fairly credible. Nice & light.\n",
      "\n",
      "Went to see Men who stare at goats - disappointing\n",
      "\n",
      "Went to see \"men who stare at goats\" it was pretty funny.. gonna go try cloud bursting now :D lawl\n",
      "\n",
      "Went to see \"Men Who Stare at Goats\" last night - funny movie!\n",
      "\n",
      "Went to see \"Men who Stare at Goats\" today. I highly recommend it.\n",
      "\n",
      "Went to see The Men Who Stare at Goats today. Funny clever film and only 90 mins long.\n",
      "\n",
      "writin an essay! YES! Oh and saw Men Who Stare at Goats...pretty good movie..........ummmmmm or what??????? #OrWhat\n",
      "\n",
      "Absolutetly LOVED Pirate Radio (The Boat that Rocked) ?. Classic rock & PSH, what's not to love? ?  #fb\n",
      "\n",
      "Agree! RT @missmon_ika:YES! THIS! :D @buhbeesgirl EVERY1 MUST GO SEE PIRATE RADIO (aka The BoatThat Rocked) W TOMSTU!SUCH A FANTASTIC MOVIE!\n",
      "\n",
      "also saw Pirate Radio on a whim last night and it is awful, you have been  warned\n",
      "\n",
      "@am13er I know - he's the best. I saw Pirate Radio with TomStu last night. Good stuff - awesome music.\n",
      "\n",
      "And Pirate Radio is such a great movie! Glad I saw it with Steven<3333\n",
      "\n",
      "at the pad..watched Pirate Radio!..great movie!..ROCK & ROLL!\n",
      "\n",
      "Awesome movie, I watched \"Pirate Radio\" last night... 2 hours of pure joy.\n",
      "\n",
      "By the way, <3 Pirate Radio\n",
      "\n",
      "@carafornia you best take @lauren__ashley to see pirate radio, it was amazing.  amazing.\n",
      "\n",
      "@catdecember Pirate Radio has everything I ever loved about radio. I kinda miss it\n",
      "\n",
      "@cellebelle no your answer is wrong. Because pirate radio looks surprisingly...terrible?\n",
      "\n",
      "Come on US, go see Pirate Radio,, it's the funniest movie of this year\n",
      "\n",
      "Don't miss Pirate Radio.  It was so much fun!\n",
      "\n",
      "Dreadful opening weekend for Pirate Radio (The Boat That Rocked) in the U.S... um... there's a reason for that...\n",
      "\n",
      "Drinking Sapphire and tonics on the porch tonight. Pleasantly buzzed. Saw Pirate Radio today ... awesome soundtrack.\n",
      "\n",
      "@druidDUDE Pirate Radio is amazing i love this movie\n",
      "\n",
      "@ensredshirt I looked at the soundtrack for Pirate Radio. Sure is great music. Now I really want to see that movie! Glad you liked it.\n",
      "\n",
      "EVERYONE LOVES PIRATE RADIO! they have to.\n",
      "\n",
      "EVERYONE MUST GO SEE PIRATE RADIO (aka The BoatThat Rocked) W TOMSTU!!! SUCH A FANTASTIC MOVIE!!!\n",
      "\n",
      "For our last date night before going on hiatus went and saw Pirate Radio.  It''s a rockin'' must see.\n",
      "\n",
      "Fun weekend with my best friend. Saw Pirate Radio on Friday. Amazing. Chilled out, played GH3, watched LOTMS, crashed. Immensely fun.\n",
      "\n",
      "Go see Pirate Radio!  What a lot of fun. And, if you're forty-eleven like me, it's the sound track of your childhood.\n",
      "\n",
      "Got back from watching Pirate Radio around 2am, Love That Movie!! ;D\n",
      "\n",
      "Great Movie, the soundtrack is awesome :) RT @Tedracat: I'm going to see Pirate Radio this afternoon (aka The Boat that Rocked)...\n",
      "\n",
      "@hiolivejuiicee I saw Pirate Radio cause it just came out yesterday. And it was funny romantic and really very good.\n",
      "\n",
      "Holy crap. Pirate radio was good. Really good.\n",
      "\n",
      "How bout it then? ..... Pirate Radio is a must see! I can't wait for it to come out on DVD so I can watch it everyday.\n",
      "\n",
      "I had so much fun this weekend with @kcorbammej @dannyellow95 and @pantanamo. Pirate Radio was freaking radical. New favorite movie for sure.\n",
      "\n",
      "I havent been this happy with a movie in real long time! Pirate Radio was awesome!\n",
      "\n",
      "I just saw PIRATE RADIO -- liked it a bunch and recommend to anyone.\n",
      "\n",
      "I just watched Pirate Radio. What should I say, hummm...nothing less than A M A Z I N G ?!!? yes, nothing less than A M A Z I N G.\n",
      "\n",
      "I just watched Pirate Radio with @ChrisMatthews! Gotta love DC.\n",
      "\n",
      "I loved Pirate Radio...absolutely genius! LOVED IT! Highly recommend.\n",
      "\n",
      "I love Pirate Radio. That movie is too good, but...long.\n",
      "\n",
      "I saw Pirate Radio. GO SEE IT! Great movie and great soundtrack. If you want something light, it''s worth the time.\n",
      "\n",
      "I SAW PIRATE RADIO! So much fun, I really really ridicuously enjoyed it! @TomSturridgecom So proud of wittle Tom! :-)\n",
      "\n",
      "I saw \"Pirate Radio\" today and thought it was a hoot with some great performances and an amazing soundtrack.\n",
      "\n",
      "i SUPER wanna see pirate radio again.  SUPERRRR.\n",
      "\n",
      "Is very happy I went to see pirate radio with friends great movie.\n",
      "\n",
      "it might be possible to make a more inept movie than 'pirate radio', but it would take a lot of work. spectacularly incompetent.\n",
      "\n",
      "I very much enjoyed Pirate Radio. I think more people should go see it.\n",
      "\n",
      "@joygreenmcgann Saw Pirate Radio w/my son. Loved it and the sound track, definitely in a ''60s groove. How''s things in your world?\n",
      "\n",
      "Just got back from hanging with @xomisskirstie saw pirate radio best movie ever\n",
      "\n",
      "Just saw (& loved!!) Pirate Radio!\n",
      "\n",
      "Just saw Pirate Radio and it was AAWEEESOMMEE, you have to see it! Good soundtrack, costumes and people are hysterical!\n",
      "\n",
      "Just saw Pirate Radio, and you know, it was pretty awesome! Philip Seymour Hoffman, Nick Frost, Bill Nighy, Rhys Darby... what a great cast!\n",
      "\n",
      "Just saw pirate radio. Best time I''ve had at the movies since Jurassic park..and nighy has moves! Brilliant flick\n",
      "\n",
      "just saw Pirate Radio... enjoyed the soundtrack!\n",
      "\n",
      "Just saw pirate radio.  F''ing rocked!!\n",
      "\n",
      "just saw Pirate Radio. go see it. it will change your life\n",
      "\n",
      "Just saw Pirate Radio... It was awsome! Highly recomend it.\n",
      "\n",
      "Just saw Pirate Radio. It was so good!\n",
      "\n",
      "just saw Pirate Radio!! It was soooo good! Omg I loved it. Definitely one of my new fave movies\n",
      "\n",
      "Just saw Pirate Radio! It was the awesomes!!! :) i need the soundtrack!\n",
      "\n",
      "just saw Pirate Radio... loved it! ;)\n",
      "\n",
      "Just saw Pirate Radio. Loved it.\n",
      "\n",
      "just saw Pirate Radio.  Oh yeah, great movie!  ROCK ON!!\n",
      "\n",
      "Just saw pirate radio. Pretty good movie makes me wish I had been alive during that era\n",
      "\n",
      "just saw Pirate Radio, pretty good, probably a better DVD than a theater pick\n",
      "\n",
      "Just saw pirate radio. Pretty good. Time to drive home in the snow. BOO!\n",
      "\n",
      "Just saw Pirate Radio. Rotten tomato was a bit harsh on it. I had a great time watching it. Very funny with awesome tunes!!\n",
      "\n",
      "Just saw Pirate Radio. Sorry to say, after all the hype I was underwhelmed\n",
      "\n",
      "Just saw Pirate Radio (The Boat That Rocked). Really enjoyed it. Great soundtrack!\n",
      "\n",
      "Just saw Pirate Radio. What a fun trip down memory lane musically.\n",
      "\n",
      "just watched PIRATE RADIO and it was....AMAZINGLY AWESOMEISHLY GREAT! the soundtrack to this movie is unbelievable! you have to see it! :)\n",
      "\n",
      "Just watched Pirate Radio.  Good movie, great soundtrack.\n",
      "\n",
      "@Krystalizing I would recommend pirate radio, watch that instead.\n",
      "\n",
      "Like counter-culture, 60's rock, & P. S. Hoffman? You'll like Pirate Radio. Seriously, one of the best movies I've seen in a while.\n",
      "\n",
      "Loved pirate radio but this is a totally biased opinion bc I feel Richard Curtis can do no wrong\n",
      "\n",
      "Loved Pirate Radio.  Downloading any songs on the soundtrack I don't already own!\n",
      "\n",
      "loved Pirate Radio. Feel good movie of the year!\n",
      "\n",
      "Loved Pirate Radio.  Good movie.  Very funny.\n",
      "\n",
      "loved Pirate Radio! Go see it if you like crazy brit humor!\n",
      "\n",
      "Loved Pirate Radio. Love the glass of chardonnay that I am drinking!\n",
      "\n",
      "Loved Pirate Radio! The 60's music playing nearly continually during the movie was a bonus.\n",
      "\n",
      "Love, love, loved \"Pirate Radio\". Probably no one else will, because I have strange movie tastes.\n",
      "\n",
      "@luckeyme Pirate Radio (The Boat that Rocked) is probably one of the best movies I have seen in the last two years. :)\n",
      "\n",
      "@LyricalAsshole dunno if you've seen the movie Hurt or Pirate Radio...but both very good films...especially pirate radio\n",
      "\n",
      "Mary poppins was amazing on broadway and I saw pirate radio last night. Very good. Interesting ending. @brucej987 the frogs were awesome lol\n",
      "\n",
      "@MichaelWittig just saw Pirate Radio.. HIGHLY recommend it!! It was VERY good!!  Do not not not not see 2012... it''s bad bad bad!!!!\n",
      "\n",
      "Movie fiction that it is, Pirate Radio was fun.  Great soundtrack but where were the music arguments/discussions?\n",
      "\n",
      "My review from last night     Pirate Radio=Massive win! Stellar cast, great story, tons of foolery. If you like music you'll love this movie\n",
      "\n",
      "@nathan_reed I really like Pirate radio.\n",
      "\n",
      "@nicholascarroll Saw Pirate Radio last night; enjoyed it immensely. No meaningful message/observations, but tons of fun and excellent music!\n",
      "\n",
      "@NickColeman Your movie advice is being called seriously into question. Pirate Radio was pure fun!\n",
      "\n",
      "@nickjfrost just saw The Boat That Rocked/Pirate Radio and I thought it was brilliant! You and the rest of the cast were fantastic! <3\n",
      "\n",
      "@nickjfrost My friend and I left the theatre with a bit of melancholia. We saw Pirate Radio and didn''t want it to end.\n",
      "\n",
      "@nicole_rae I saw Pirate Radio last night and loved it--I think you and Q would dig\n",
      "\n",
      "@ninenorthlp The color, the music, the story...are great. It's already in my all-time favorites! Pirate Radio ROCKS!\n",
      "\n",
      "Oh, and just saw Pirate Radio aka The Boat That Rocked, and loved it. Add Chris O''Dowd to the list of Irishmen I have a thing for.\n",
      "\n",
      "Oh my GOD!! I loved Pirate Radio!!!!! It was SO GOOD! Awwwhh!\n",
      "\n",
      "OK, so I see some of you have made this statement already. But I have to follow suit in this case. Pirate Radio was good...\n",
      "\n",
      "@orangecountygal Breakfast on my \"to do\" list HA. Saw Pirate Radio last night, lots of fun (no covers!)\n",
      "\n",
      "Pirate radio awesome.  Got to love the 60's\n",
      "\n",
      "pirate radio! best movie! TomStu StOLE that movie! he's another Brit god !\n",
      "\n",
      "Pirate Radio, great flick.\n",
      "\n",
      "Pirate Radio HOT! Best movie I've seen in a long time.\n",
      "\n",
      "Pirate Radio. I laughed until I was in pain. Great premise, hilarious interpretations, especially by Kenneth Branagh with a comic moustache.\n",
      "\n",
      "Pirate Radio is a fun, entertaining movie.\n",
      "\n",
      "Pirate Radio is an infinitely more upbeat counterpoint to \"2012\". Best soundtrack of any movie ever. Branagh was great. Nighy as well.\n",
      "\n",
      "Pirate Radio is pretty good.  Had a lot of fun.\n",
      "\n",
      "Pirate Radio is ridiculously good\n",
      "\n",
      "Pirate Radio is the best movie of the year in my book.\n",
      "\n",
      "Pirate Radio is the most enjoyable movie I've seen this year. Actually, laughed outloud in the theater. That never happens :)\n",
      "\n",
      "Pirate radio is the shit. freak yea\n",
      "\n",
      "Pirate radio looks stupid, rebellion isn't  cool anymore\n",
      "\n",
      "Pirate Radio made me happy. I looove it.\n",
      "\n",
      "Pirate Radio=Massive win! Stellar cast, great story, tons of foolery & cute lil TomStu too. If you like music you'll love this movie. :)\n",
      "\n",
      "Pirate Radio = not a very good movie. Sorry. I wanted to like it, but just couldn't. Fantastic cast though.\n",
      "\n",
      "Pirate Radio rocked so very hard! Today's movie: Fantastic Mr. Fox. Reviews of both, for those who care, on tomorrows blog.\n",
      "\n",
      "Pirate Radio rocked! Yes, I did just say that. :)\n",
      "\n",
      "Pirate Radio...seriously amazing movie if truely appreciate music! I got a little misty! In see it!\n",
      "\n",
      "Pirate Radio...truely fantastic movie if you truely appreciate music. I got a bit misty. Go see it!\n",
      "\n",
      "Pirate Radio was absolutely amazing, add a free dinner at Doyles with that and you got my perfect sunday night\n",
      "\n",
      "Pirate Radio was adorable, I'm now mad crushing on at least 90% of the attractive hipster pirate djs, sorry @nateperkins\n",
      "\n",
      "Pirate Radio was a great movie for the chilly grey Sunday! rock n roll duderz!\n",
      "\n",
      "Pirate Radio was amazing, fyi. \"You've got my name written on your boobies!\"\n",
      "\n",
      "pirate radio was AMAZING!! I LOVED IT!!!\n",
      "\n",
      "Pirate Radio was amazing. You all must go see it.\n",
      "\n",
      "Pirate Radio was awesome- highly recommend it!\n",
      "\n",
      "Pirate Radio was AWESOME! Need 2 start seeing movies @ Landmark E St. theatre more often.\n",
      "\n",
      "Pirate Radio was AWESOME!!! We all cried a little in the end... Except for Jaimee... She has no heart. I love you Jaimee!!!\n",
      "\n",
      "Pirate Radio was epic everyone needs to go see it !!\n",
      "\n",
      "Pirate Radio was excellent. Reccomended to all.\n",
      "\n",
      "Pirate Radio was good, and I got to watch it for free-started showing promos 10 min b4 ending\n",
      "\n",
      "Pirate Radio was Good! Go watch it!\n",
      "\n",
      "Pirate radio was great. a must see and get the sound track.  love classic rock.  was a feel good comedy with a interesting history lesson.\n",
      "\n",
      "Pirate Radio was hilarious. Everybody needs to see it.\n",
      "\n",
      "Pirate radio was inspiring. I'm buying it.\n",
      "\n",
      "Pirate Radio was pretty brilliant. Many an appearance from Norrington (Jack Davenport) XD.\n",
      "\n",
      "Pirate Radio was really, really good! But I'm starting to worry that I can't watch movies with other human beings. So annoying!!! #fb\n",
      "\n",
      "Pirate radio was so good last night.\n",
      "\n",
      "Pirate Radio was so much FUN last night! Need some movie reverie? Go see it. That is, unless you don't like rock 'n' roll. Or having fun.\n",
      "\n",
      "Pirate Radio was SUCH a good movie. I recommend it to everyone.\n",
      "\n",
      "Pirate Radio was the shit last night! =]\n",
      "\n",
      "Please excuse the God-awful cliched pun, but PIRATE RADIO freaking rocked.\n",
      "\n",
      "Quick Movie Review: Pirate Radio = Bloody Brilliant!!\n",
      "\n",
      "RT @buhbeesgirl: EVERYONE MUST GO SEE PIRATE RADIO (aka The BoatThat Rocked) W TOMSTU!!! SUCH A FANTASTIC MOVIE!!!\n",
      "\n",
      "RT @chrisrbrown: only good thing about seeing the horrible Pirate Radio at Cobble Hill Cinema tonight was Gabriel Byrne was in the audience.\n",
      "\n"
     ]
    },
    {
     "name": "stderr",
     "output_type": "stream",
     "text": [
      "D:\\Anaconda3\\lib\\site-packages\\ipykernel_launcher.py:1: DeprecationWarning: 'U' mode is deprecated\n",
      "  \"\"\"Entry point for launching an IPython kernel.\n"
     ]
    },
    {
     "ename": "UnicodeDecodeError",
     "evalue": "'gbk' codec can't decode byte 0xa6 in position 1344: illegal multibyte sequence",
     "output_type": "error",
     "traceback": [
      "\u001b[1;31m---------------------------------------------------------------------------\u001b[0m",
      "\u001b[1;31mUnicodeDecodeError\u001b[0m                        Traceback (most recent call last)",
      "\u001b[1;32m<ipython-input-13-d83d65c7917e>\u001b[0m in \u001b[0;36m<module>\u001b[1;34m()\u001b[0m\n\u001b[0;32m      1\u001b[0m \u001b[1;32mwith\u001b[0m \u001b[0mopen\u001b[0m\u001b[1;33m(\u001b[0m\u001b[1;34m'./code/data/tweets.txt'\u001b[0m\u001b[1;33m,\u001b[0m \u001b[1;34m'rU'\u001b[0m\u001b[1;33m)\u001b[0m \u001b[1;32mas\u001b[0m \u001b[0mfid\u001b[0m\u001b[1;33m:\u001b[0m\u001b[1;33m\u001b[0m\u001b[0m\n\u001b[1;32m----> 2\u001b[1;33m     \u001b[1;32mfor\u001b[0m \u001b[0mline\u001b[0m \u001b[1;32min\u001b[0m \u001b[0mfid\u001b[0m\u001b[1;33m:\u001b[0m\u001b[1;33m\u001b[0m\u001b[0m\n\u001b[0m\u001b[0;32m      3\u001b[0m         \u001b[0mprint\u001b[0m\u001b[1;33m(\u001b[0m\u001b[0mline\u001b[0m\u001b[1;33m)\u001b[0m\u001b[1;33m\u001b[0m\u001b[0m\n",
      "\u001b[1;31mUnicodeDecodeError\u001b[0m: 'gbk' codec can't decode byte 0xa6 in position 1344: illegal multibyte sequence"
     ]
    }
   ],
   "source": [
    "with open('./code/data/tweets.txt', 'rU') as fid:\n",
    "    for line in fid:\n",
    "        print(line)"
   ]
  },
  {
   "cell_type": "code",
   "execution_count": 5,
   "metadata": {},
   "outputs": [
    {
     "name": "stdout",
     "output_type": "stream",
     "text": [
      "(630, 1811)\n"
     ]
    }
   ],
   "source": [
    "%run ./code/src/twitter.py"
   ]
  },
  {
   "cell_type": "code",
   "execution_count": 6,
   "metadata": {},
   "outputs": [
    {
     "ename": "NameError",
     "evalue": "name 'a' is not defined",
     "output_type": "error",
     "traceback": [
      "\u001b[1;31m---------------------------------------------------------------------------\u001b[0m",
      "\u001b[1;31mNameError\u001b[0m                                 Traceback (most recent call last)",
      "\u001b[1;32m<ipython-input-6-60b725f10c9c>\u001b[0m in \u001b[0;36m<module>\u001b[1;34m()\u001b[0m\n\u001b[1;32m----> 1\u001b[1;33m \u001b[0ma\u001b[0m\u001b[1;33m\u001b[0m\u001b[0m\n\u001b[0m",
      "\u001b[1;31mNameError\u001b[0m: name 'a' is not defined"
     ]
    }
   ],
   "source": [
    "a"
   ]
  },
  {
   "cell_type": "code",
   "execution_count": 7,
   "metadata": {
    "collapsed": true
   },
   "outputs": [],
   "source": [
    "a = np.genfromtxt('./code/data/labels.txt')"
   ]
  },
  {
   "cell_type": "code",
   "execution_count": 8,
   "metadata": {
    "collapsed": true
   },
   "outputs": [],
   "source": [
    "a[a==-1] = 1"
   ]
  },
  {
   "cell_type": "code",
   "execution_count": 9,
   "metadata": {},
   "outputs": [
    {
     "data": {
      "text/plain": [
       "array([ 1.,  1.,  1.,  1.,  1.,  1.,  1.,  1.,  1.,  1.,  1.,  1.,  1.,\n",
       "        1.,  1.,  1.,  1.,  1.,  1.,  1.,  1.,  1.,  1.,  1.,  1.,  1.,\n",
       "        1.,  1.,  1.,  1.,  1.,  1.,  1.,  1.,  1.,  1.,  1.,  1.,  1.,\n",
       "        1.,  1.,  1.,  1.,  1.,  1.,  1.,  1.,  1.,  1.,  1.,  1.,  1.,\n",
       "        1.,  1.,  1.,  1.,  1.,  1.,  1.,  1.,  1.,  1.,  1.,  1.,  1.,\n",
       "        1.,  1.,  1.,  1.,  1.,  1.,  1.,  1.,  1.,  1.,  1.,  1.,  1.,\n",
       "        1.,  1.,  1.,  1.,  1.,  1.,  1.,  1.,  1.,  1.,  1.,  1.,  1.,\n",
       "        1.,  1.,  1.,  1.,  1.,  1.,  1.,  1.,  1.,  1.,  1.,  1.,  1.,\n",
       "        1.,  1.,  1.,  1.,  1.,  1.,  1.,  1.,  1.,  1.,  1.,  1.,  1.,\n",
       "        1.,  1.,  1.,  1.,  1.,  1.,  1.,  1.,  1.,  1.,  1.,  1.,  1.,\n",
       "        1.,  1.,  1.,  1.,  1.,  1.,  1.,  1.,  1.,  1.,  1.,  1.,  1.,\n",
       "        1.,  1.,  1.,  1.,  1.,  1.,  1.,  1.,  1.,  1.,  1.,  1.,  1.,\n",
       "        1.,  1.,  1.,  1.,  1.,  1.,  1.,  1.,  1.,  1.,  1.,  1.,  1.,\n",
       "        1.,  1.,  1.,  1.,  1.,  1.,  1.,  1.,  1.,  1.,  1.,  1.,  1.,\n",
       "        1.,  1.,  1.,  1.,  1.,  1.,  1.,  1.,  1.,  1.,  1.,  1.,  1.,\n",
       "        1.,  1.,  1.,  1.,  1.,  1.,  1.,  1.,  1.,  1.,  1.,  1.,  1.,\n",
       "        1.,  1.,  1.,  1.,  1.,  1.,  1.,  1.,  1.,  1.,  1.,  1.,  1.,\n",
       "        1.,  1.,  1.,  1.,  1.,  1.,  1.,  1.,  1.,  1.,  1.,  1.,  1.,\n",
       "        1.,  1.,  1.,  1.,  1.,  1.,  1.,  1.,  1.,  1.,  1.,  1.,  1.,\n",
       "        1.,  1.,  1.,  1.,  1.,  1.,  1.,  1.,  1.,  1.,  1.,  1.,  1.,\n",
       "        1.,  1.,  1.,  1.,  1.,  1.,  1.,  1.,  1.,  1.,  1.,  1.,  1.,\n",
       "        1.,  1.,  1.,  1.,  1.,  1.,  1.,  1.,  1.,  1.,  1.,  1.,  1.,\n",
       "        1.,  1.,  1.,  1.,  1.,  1.,  1.,  1.,  1.,  1.,  1.,  1.,  1.,\n",
       "        1.,  1.,  1.,  1.,  1.,  1.,  1.,  1.,  1.,  1.,  1.,  1.,  1.,\n",
       "        1.,  1.,  1.,  1.,  1.,  1.,  1.,  1.,  1.,  1.,  1.,  1.,  1.,\n",
       "        1.,  1.,  1.,  1.,  1.,  1.,  1.,  1.,  1.,  1.,  1.,  1.,  1.,\n",
       "        1.,  1.,  1.,  1.,  1.,  1.,  1.,  1.,  1.,  1.,  1.,  1.,  1.,\n",
       "        1.,  1.,  1.,  1.,  1.,  1.,  1.,  1.,  1.,  1.,  1.,  1.,  1.,\n",
       "        1.,  1.,  1.,  1.,  1.,  1.,  1.,  1.,  1.,  1.,  1.,  1.,  1.,\n",
       "        1.,  1.,  1.,  1.,  1.,  1.,  1.,  1.,  1.,  1.,  1.,  1.,  1.,\n",
       "        1.,  1.,  1.,  1.,  1.,  1.,  1.,  1.,  1.,  1.,  1.,  1.,  1.,\n",
       "        1.,  1.,  1.,  1.,  1.,  1.,  1.,  1.,  1.,  1.,  1.,  1.,  1.,\n",
       "        1.,  1.,  1.,  1.,  1.,  1.,  1.,  1.,  1.,  1.,  1.,  1.,  1.,\n",
       "        1.,  1.,  1.,  1.,  1.,  1.,  1.,  1.,  1.,  1.,  1.,  1.,  1.,\n",
       "        1.,  1.,  1.,  1.,  1.,  1.,  1.,  1.,  1.,  1.,  1.,  1.,  1.,\n",
       "        1.,  1.,  1.,  1.,  1.,  1.,  1.,  1.,  1.,  1.,  1.,  1.,  1.,\n",
       "        1.,  1.,  1.,  1.,  1.,  1.,  1.,  1.,  1.,  1.,  1.,  1.,  1.,\n",
       "        1.,  1.,  1.,  1.,  1.,  1.,  1.,  1.,  1.,  1.,  1.,  1.,  1.,\n",
       "        1.,  1.,  1.,  1.,  1.,  1.,  1.,  1.,  1.,  1.,  1.,  1.,  1.,\n",
       "        1.,  1.,  1.,  1.,  1.,  1.,  1.,  1.,  1.,  1.,  1.,  1.,  1.,\n",
       "        1.,  1.,  1.,  1.,  1.,  1.,  1.,  1.,  1.,  1.,  1.,  1.,  1.,\n",
       "        1.,  1.,  1.,  1.,  1.,  1.,  1.,  1.,  1.,  1.,  1.,  1.,  1.,\n",
       "        1.,  1.,  1.,  1.,  1.,  1.,  1.,  1.,  1.,  1.,  1.,  1.,  1.,\n",
       "        1.,  1.,  1.,  1.,  1.,  1.,  1.,  1.,  1.,  1.,  1.,  1.,  1.,\n",
       "        1.,  1.,  1.,  1.,  1.,  1.,  1.,  1.,  1.,  1.,  1.,  1.,  1.,\n",
       "        1.,  1.,  1.,  1.,  1.,  1.,  1.,  1.,  1.,  1.,  1.,  1.,  1.,\n",
       "        1.,  1.,  1.,  1.,  1.,  1.,  1.,  1.,  1.,  1.,  1.,  1.,  1.,\n",
       "        1.,  1.,  1.,  1.,  1.,  1.,  1.,  1.,  1.,  1.,  1.,  1.,  1.,\n",
       "        1.,  1.,  1.,  1.,  1.,  1.])"
      ]
     },
     "execution_count": 9,
     "metadata": {},
     "output_type": "execute_result"
    }
   ],
   "source": [
    "a"
   ]
  },
  {
   "cell_type": "code",
   "execution_count": 10,
   "metadata": {},
   "outputs": [
    {
     "ename": "SyntaxError",
     "evalue": "unexpected EOF while parsing (<ipython-input-10-af000e574aac>, line 1)",
     "output_type": "error",
     "traceback": [
      "\u001b[1;36m  File \u001b[1;32m\"<ipython-input-10-af000e574aac>\"\u001b[1;36m, line \u001b[1;32m1\u001b[0m\n\u001b[1;33m    if 1 == 2:\u001b[0m\n\u001b[1;37m              ^\u001b[0m\n\u001b[1;31mSyntaxError\u001b[0m\u001b[1;31m:\u001b[0m unexpected EOF while parsing\n"
     ]
    }
   ],
   "source": [
    "if 1 == 2:"
   ]
  },
  {
   "cell_type": "code",
   "execution_count": 11,
   "metadata": {},
   "outputs": [
    {
     "ename": "SyntaxError",
     "evalue": "unexpected EOF while parsing (<ipython-input-11-af000e574aac>, line 1)",
     "output_type": "error",
     "traceback": [
      "\u001b[1;36m  File \u001b[1;32m\"<ipython-input-11-af000e574aac>\"\u001b[1;36m, line \u001b[1;32m1\u001b[0m\n\u001b[1;33m    if 1 == 2:\u001b[0m\n\u001b[1;37m              ^\u001b[0m\n\u001b[1;31mSyntaxError\u001b[0m\u001b[1;31m:\u001b[0m unexpected EOF while parsing\n"
     ]
    }
   ],
   "source": [
    "if 1 == 2:"
   ]
  },
  {
   "cell_type": "code",
   "execution_count": 12,
   "metadata": {},
   "outputs": [
    {
     "name": "stdout",
     "output_type": "stream",
     "text": [
      "[ 1.  1.  1.  1.  1.  1.  1.  1.  1.  1.  1.  1.  1.  1.  1.  1.  1.  1.\n",
      "  1.  1.  1.  1.  1.  1.  1.  1.  1.  1.  1.  1.  1.  1.  1.  1.  1.  1.\n",
      "  1.  1.  1.  1.  1.  1.  1.  1.  1.  1.  1.  1.  1.  1.  1.  1.  1.  1.\n",
      "  1.  1.  1.  1.  1.  1.  1.  1.  1.  1.  1.  1.  1.  1.  1.  1.  1.  1.\n",
      "  1.  1.  1.  1.  1.  1.  1.  1.  1.  1.  1.  1.  1.  1.  1.  1.  1.  1.\n",
      "  1.  1.  1.  1.  1.  1.  1.  1.  1.  1.  1.  1.  1.  1.  1.  1.  1.  1.\n",
      "  1.  1.  1.  1.  1.  1.  1.  1.  1.  1.  1.  1.  1.  1.  1.  1.  1.  1.\n",
      "  1.  1.  1.  1.  1.  1.  1.  1.  1.  1.  1.  1.  1.  1.  1.  1.  1.  1.\n",
      "  1.  1.  1.  1.  1.  1.  1.  1.  1.  1.  1.  1.  1.  1.  1.  1.  1.  1.\n",
      "  1.  1.  1.  1.  1.  1.  1.  1.  1.  1.  1.  1.  1.  1.  1.  1.  1.  1.\n",
      "  1.  1.  1.  1.  1.  1.  1.  1.  1.  1.  1.  1.  1.  1.  1.  1.  1.  1.\n",
      "  1.  1.  1.  1.  1.  1.  1.  1.  1.  1.  1.  1.  1.  1.  1.  1.  1.  1.\n",
      "  1.  1.  1.  1.  1.  1.  1.  1.  1.  1.  1.  1.  1.  1.  1.  1.  1.  1.\n",
      "  1.  1.  1.  1.  1.  1.  1.  1.  1.  1.  1.  1.  1.  1.  1.  1.  1.  1.\n",
      "  1.  1.  1.  1.  1.  1.  1.  1.  1.  1.  1.  1.  1.  1.  1.  1.  1.  1.\n",
      "  1.  1.  1.  1.  1.  1.  1.  1.  1.  1.  1.  1.  1.  1.  1.  1.  1.  1.\n",
      "  1.  1.  1.  1.  1.  1.  1.  1.  1.  1.  1.  1.  1.  1.  1.  1.  1.  1.\n",
      "  1.  1.  1.  1.  1.  1.  1.  1.  1.  1.  1.  1.  1.  1.  1.  1.  1.  1.\n",
      "  1.  1.  1.  1.  1.  1.  1.  1.  1.  1.  1.  1.  1.  1.  1.  1.  1.  1.\n",
      "  1.  1.  1.  1.  1.  1.  1.  1.  1.  1.  1.  1.  1.  1.  1.  1.  1.  1.\n",
      "  1.  1.  1.  1.  1.  1.  1.  1.  1.  1.  1.  1.  1.  1.  1.  1.  1.  1.\n",
      "  1.  1.  1.  1.  1.  1.  1.  1.  1.  1.  1.  1.  1.  1.  1.  1.  1.  1.\n",
      "  1.  1.  1.  1.  1.  1.  1.  1.  1.  1.  1.  1.  1.  1.  1.  1.  1.  1.\n",
      "  1.  1.  1.  1.  1.  1.  1.  1.  1.  1.  1.  1.  1.  1.  1.  1.  1.  1.\n",
      "  1.  1.  1.  1.  1.  1.  1.  1.  1.  1.  1.  1.  1.  1.  1.  1.  1.  1.\n",
      "  1.  1.  1.  1.  1.  1.  1.  1.  1.  1.  1.  1.  1.  1.  1.  1.  1.  1.\n",
      "  1.  1.  1.  1.  1.  1.  1.  1.  1.  1.  1.  1.  1.  1.  1.  1.  1.  1.\n",
      "  1.  1.  1.  1.  1.  1.  1.  1.  1.  1.  1.  1.  1.  1.  1.  1.  1.  1.\n",
      "  1.  1.  1.  1.  1.  1.  1.  1.  1.  1.  1.  1.  1.  1.  1.  1.  1.  1.\n",
      "  1.  1.  1.  1.  1.  1.  1.  1.  1.  1.  1.  1.  1.  1.  1.  1.  1.  1.\n",
      "  1.  1.  1.  1.  1.  1.  1.  1.  1.  1.  1.  1.  1.  1.  1.  1.  1.  1.\n",
      "  1.  1.  1.  1.  1.  1.  1.  1.  1.  1.  1.  1.  1.  1.  1.  1.  1.  1.\n",
      "  1.  1.  1.  1.  1.  1.  1.  1.  1.  1.  1.  1.  1.  1.  1.  1.  1.  1.\n",
      "  1.  1.  1.  1.  1.  1.  1.  1.  1.  1.  1.  1.  1.  1.  1.  1.  1.  1.\n",
      "  1.  1.  1.  1.  1.  1.  1.  1.  1.  1.  1.  1.  1.  1.  1.  1.  1.  1.]\n"
     ]
    }
   ],
   "source": [
    "if 1 == 2:\n",
    "    a = 1\n",
    "print(a)"
   ]
  },
  {
   "cell_type": "code",
   "execution_count": 13,
   "metadata": {},
   "outputs": [
    {
     "ename": "NameError",
     "evalue": "name 'b' is not defined",
     "output_type": "error",
     "traceback": [
      "\u001b[1;31m---------------------------------------------------------------------------\u001b[0m",
      "\u001b[1;31mNameError\u001b[0m                                 Traceback (most recent call last)",
      "\u001b[1;32m<ipython-input-13-7ac80156d587>\u001b[0m in \u001b[0;36m<module>\u001b[1;34m()\u001b[0m\n\u001b[0;32m      1\u001b[0m \u001b[1;32mif\u001b[0m \u001b[1;36m1\u001b[0m \u001b[1;33m==\u001b[0m \u001b[1;36m2\u001b[0m\u001b[1;33m:\u001b[0m\u001b[1;33m\u001b[0m\u001b[0m\n\u001b[0;32m      2\u001b[0m     \u001b[0mb\u001b[0m \u001b[1;33m=\u001b[0m \u001b[1;36m1\u001b[0m\u001b[1;33m\u001b[0m\u001b[0m\n\u001b[1;32m----> 3\u001b[1;33m \u001b[0mprint\u001b[0m\u001b[1;33m(\u001b[0m\u001b[0mb\u001b[0m\u001b[1;33m)\u001b[0m\u001b[1;33m\u001b[0m\u001b[0m\n\u001b[0m",
      "\u001b[1;31mNameError\u001b[0m: name 'b' is not defined"
     ]
    }
   ],
   "source": [
    "if 1 == 2:\n",
    "    b = 1\n",
    "print(b)"
   ]
  },
  {
   "cell_type": "code",
   "execution_count": 14,
   "metadata": {},
   "outputs": [
    {
     "data": {
      "text/plain": [
       "array([1, 1, 0])"
      ]
     },
     "execution_count": 14,
     "metadata": {},
     "output_type": "execute_result"
    }
   ],
   "source": [
    "np.sign([1,2,0])"
   ]
  },
  {
   "cell_type": "code",
   "execution_count": 15,
   "metadata": {},
   "outputs": [
    {
     "data": {
      "text/plain": [
       "array([ 1,  1,  0, -1])"
      ]
     },
     "execution_count": 15,
     "metadata": {},
     "output_type": "execute_result"
    }
   ],
   "source": [
    "np.sign([1,2,0, -1])"
   ]
  },
  {
   "cell_type": "code",
   "execution_count": 16,
   "metadata": {},
   "outputs": [
    {
     "ename": "NameError",
     "evalue": "name 'array' is not defined",
     "output_type": "error",
     "traceback": [
      "\u001b[1;31m---------------------------------------------------------------------------\u001b[0m",
      "\u001b[1;31mNameError\u001b[0m                                 Traceback (most recent call last)",
      "\u001b[1;32m<ipython-input-16-27d393022d9f>\u001b[0m in \u001b[0;36m<module>\u001b[1;34m()\u001b[0m\n\u001b[1;32m----> 1\u001b[1;33m \u001b[0marray\u001b[0m\u001b[1;33m(\u001b[0m\u001b[1;33m[\u001b[0m\u001b[1;36m1\u001b[0m\u001b[1;33m,\u001b[0m\u001b[1;36m2\u001b[0m\u001b[1;33m,\u001b[0m\u001b[1;36m3\u001b[0m\u001b[1;33m]\u001b[0m\u001b[1;33m)\u001b[0m\u001b[1;33m\u001b[0m\u001b[0m\n\u001b[0m",
      "\u001b[1;31mNameError\u001b[0m: name 'array' is not defined"
     ]
    }
   ],
   "source": [
    "array([1,2,3])"
   ]
  },
  {
   "cell_type": "code",
   "execution_count": 17,
   "metadata": {},
   "outputs": [
    {
     "data": {
      "text/plain": [
       "array([1, 2, 3])"
      ]
     },
     "execution_count": 17,
     "metadata": {},
     "output_type": "execute_result"
    }
   ],
   "source": [
    "np.array([1,2,3])"
   ]
  },
  {
   "cell_type": "code",
   "execution_count": 18,
   "metadata": {},
   "outputs": [
    {
     "data": {
      "text/plain": [
       "array([[1, 2],\n",
       "       [3, 4]])"
      ]
     },
     "execution_count": 18,
     "metadata": {},
     "output_type": "execute_result"
    }
   ],
   "source": [
    "np.array([[1,2],[3,4]])"
   ]
  },
  {
   "cell_type": "code",
   "execution_count": 23,
   "metadata": {},
   "outputs": [
    {
     "name": "stdout",
     "output_type": "stream",
     "text": [
      "StratifiedKFold(n_splits=2, random_state=None, shuffle=False)\n",
      "TRAIN: [1 3] TEST: [0 2]\n",
      "[[3 4]\n",
      " [3 4]]\n",
      "TRAIN: [0 2] TEST: [1 3]\n",
      "[[1 2]\n",
      " [1 2]]\n"
     ]
    }
   ],
   "source": [
    "from sklearn.model_selection import StratifiedKFold\n",
    "X = np.array([[1, 2], [3, 4], [1, 2], [3, 4]])\n",
    "y = np.array([0, 0, 1, 1])\n",
    "skf = StratifiedKFold(n_splits=2)\n",
    "skf.get_n_splits(X, y)\n",
    "print(skf) \n",
    "for train_index, test_index in skf.split(X, y):\n",
    "    print(\"TRAIN:\", train_index, \"TEST:\", test_index)\n",
    "    X_train, X_test = X[train_index], X[test_index]\n",
    "    y_train, y_test = y[train_index], y[test_index]\n",
    "    print(X_train)"
   ]
  },
  {
   "cell_type": "code",
   "execution_count": 24,
   "metadata": {},
   "outputs": [
    {
     "ename": "SyntaxError",
     "evalue": "invalid syntax (<ipython-input-24-8a980a8cf181>, line 1)",
     "output_type": "error",
     "traceback": [
      "\u001b[1;36m  File \u001b[1;32m\"<ipython-input-24-8a980a8cf181>\"\u001b[1;36m, line \u001b[1;32m1\u001b[0m\n\u001b[1;33m    X[1 2]\u001b[0m\n\u001b[1;37m        ^\u001b[0m\n\u001b[1;31mSyntaxError\u001b[0m\u001b[1;31m:\u001b[0m invalid syntax\n"
     ]
    }
   ],
   "source": [
    "X[1 2]"
   ]
  },
  {
   "cell_type": "code",
   "execution_count": 25,
   "metadata": {},
   "outputs": [
    {
     "ename": "IndexError",
     "evalue": "index 2 is out of bounds for axis 1 with size 2",
     "output_type": "error",
     "traceback": [
      "\u001b[1;31m---------------------------------------------------------------------------\u001b[0m",
      "\u001b[1;31mIndexError\u001b[0m                                Traceback (most recent call last)",
      "\u001b[1;32m<ipython-input-25-82bffe5a8511>\u001b[0m in \u001b[0;36m<module>\u001b[1;34m()\u001b[0m\n\u001b[1;32m----> 1\u001b[1;33m \u001b[0mX\u001b[0m\u001b[1;33m[\u001b[0m\u001b[1;36m1\u001b[0m\u001b[1;33m,\u001b[0m\u001b[1;36m2\u001b[0m\u001b[1;33m]\u001b[0m\u001b[1;33m\u001b[0m\u001b[0m\n\u001b[0m",
      "\u001b[1;31mIndexError\u001b[0m: index 2 is out of bounds for axis 1 with size 2"
     ]
    }
   ],
   "source": [
    "X[1,2]"
   ]
  },
  {
   "cell_type": "code",
   "execution_count": 26,
   "metadata": {},
   "outputs": [
    {
     "data": {
      "text/plain": [
       "array([[3, 4],\n",
       "       [1, 2]])"
      ]
     },
     "execution_count": 26,
     "metadata": {},
     "output_type": "execute_result"
    }
   ],
   "source": [
    "X[np.array([1,2])]"
   ]
  },
  {
   "cell_type": "code",
   "execution_count": 27,
   "metadata": {},
   "outputs": [
    {
     "data": {
      "text/plain": [
       "array([1, 2, 3])"
      ]
     },
     "execution_count": 27,
     "metadata": {},
     "output_type": "execute_result"
    }
   ],
   "source": [
    "np.array([1,2,3])"
   ]
  },
  {
   "cell_type": "code",
   "execution_count": 28,
   "metadata": {},
   "outputs": [
    {
     "name": "stdout",
     "output_type": "stream",
     "text": [
      "[1 2 3]\n"
     ]
    }
   ],
   "source": [
    "print(np.array([1,2,3]))"
   ]
  },
  {
   "cell_type": "code",
   "execution_count": 30,
   "metadata": {},
   "outputs": [
    {
     "name": "stdout",
     "output_type": "stream",
     "text": [
      "[[1 2]\n",
      " [3 4]\n",
      " [1 2]\n",
      " [3 4]]\n"
     ]
    }
   ],
   "source": [
    "print(X)"
   ]
  },
  {
   "cell_type": "code",
   "execution_count": 31,
   "metadata": {},
   "outputs": [
    {
     "data": {
      "text/plain": [
       "<generator object _BaseKFold.split at 0x0000029DC0C6E258>"
      ]
     },
     "execution_count": 31,
     "metadata": {},
     "output_type": "execute_result"
    }
   ],
   "source": [
    "skf.split(X, y)"
   ]
  },
  {
   "cell_type": "code",
   "execution_count": 32,
   "metadata": {},
   "outputs": [
    {
     "name": "stdout",
     "output_type": "stream",
     "text": [
      "<generator object _BaseKFold.split at 0x0000029DC0C6E888>\n"
     ]
    }
   ],
   "source": [
    "print(skf.split(X, y))"
   ]
  },
  {
   "cell_type": "code",
   "execution_count": 33,
   "metadata": {},
   "outputs": [
    {
     "data": {
      "text/plain": [
       "array([  1.00000000e-03,   1.00000000e-02,   1.00000000e-01,\n",
       "         1.00000000e+00,   1.00000000e+01,   1.00000000e+02])"
      ]
     },
     "execution_count": 33,
     "metadata": {},
     "output_type": "execute_result"
    }
   ],
   "source": [
    "10.0 ** np.arange(-3, 3)"
   ]
  },
  {
   "cell_type": "code",
   "execution_count": 34,
   "metadata": {},
   "outputs": [
    {
     "data": {
      "text/plain": [
       "array([0, 1, 2, 3, 4, 5, 6, 7, 8, 9])"
      ]
     },
     "execution_count": 34,
     "metadata": {},
     "output_type": "execute_result"
    }
   ],
   "source": [
    "np.array([i for i in range(10)])"
   ]
  },
  {
   "cell_type": "code",
   "execution_count": 35,
   "metadata": {},
   "outputs": [
    {
     "data": {
      "text/plain": [
       "array([], dtype=float64)"
      ]
     },
     "execution_count": 35,
     "metadata": {},
     "output_type": "execute_result"
    }
   ],
   "source": [
    "np.array([i for i in range(10, -1)])"
   ]
  },
  {
   "cell_type": "code",
   "execution_count": 39,
   "metadata": {},
   "outputs": [
    {
     "data": {
      "text/plain": [
       "array(<generator object <genexpr> at 0x0000029DC0C6ED00>, dtype=object)"
      ]
     },
     "execution_count": 39,
     "metadata": {},
     "output_type": "execute_result"
    }
   ],
   "source": [
    "\n",
    "np.array(i for i in range(10, 1, -1))"
   ]
  },
  {
   "cell_type": "code",
   "execution_count": 46,
   "metadata": {},
   "outputs": [
    {
     "name": "stdout",
     "output_type": "stream",
     "text": [
      "(630, 1811)\n",
      "Linear SVM Hyperparameter Selection based on accuracy:\n",
      "accuracy: \n",
      "[ 0.66350026  0.7304207   0.78131954  0.78751816  0.78590546  0.78590546]\n",
      "Linear SVM Hyperparameter Selection based on F1-Score:\n",
      "F1-Score: \n",
      "[ 0.79771418  0.81918909  0.83902927  0.83777158  0.83608265  0.83608265]\n",
      "Linear SVM Hyperparameter Selection based on AUROC:\n",
      "AUROC: \n",
      "[ 0.5         0.63756855  0.73871499  0.75574157  0.75567186  0.75567186]\n"
     ]
    }
   ],
   "source": [
    "%run ./code/src/twitter.py"
   ]
  },
  {
   "cell_type": "code",
   "execution_count": 44,
   "metadata": {},
   "outputs": [
    {
     "ename": "TypeError",
     "evalue": "__init__() missing 1 required positional argument: 'y'",
     "output_type": "error",
     "traceback": [
      "\u001b[1;31m---------------------------------------------------------------------------\u001b[0m",
      "\u001b[1;31mTypeError\u001b[0m                                 Traceback (most recent call last)",
      "\u001b[1;32m<ipython-input-44-91930a4b7136>\u001b[0m in \u001b[0;36m<module>\u001b[1;34m()\u001b[0m\n\u001b[0;32m      1\u001b[0m \u001b[1;32mfrom\u001b[0m \u001b[0msklearn\u001b[0m\u001b[1;33m.\u001b[0m\u001b[0mcross_validation\u001b[0m \u001b[1;32mimport\u001b[0m \u001b[0mStratifiedKFold\u001b[0m\u001b[1;33m\u001b[0m\u001b[0m\n\u001b[1;32m----> 2\u001b[1;33m \u001b[0mskf\u001b[0m \u001b[1;33m=\u001b[0m \u001b[0mStratifiedKFold\u001b[0m\u001b[1;33m(\u001b[0m\u001b[1;33m)\u001b[0m\u001b[1;33m\u001b[0m\u001b[0m\n\u001b[0m",
      "\u001b[1;31mTypeError\u001b[0m: __init__() missing 1 required positional argument: 'y'"
     ]
    }
   ],
   "source": [
    "from sklearn.cross_validation import StratifiedKFold\n",
    "skf = StratifiedKFold()\n"
   ]
  },
  {
   "cell_type": "code",
   "execution_count": 47,
   "metadata": {},
   "outputs": [
    {
     "data": {
      "text/plain": [
       "0.001"
      ]
     },
     "execution_count": 47,
     "metadata": {},
     "output_type": "execute_result"
    }
   ],
   "source": [
    "10**-3"
   ]
  },
  {
   "cell_type": "code",
   "execution_count": 48,
   "metadata": {},
   "outputs": [
    {
     "name": "stdout",
     "output_type": "stream",
     "text": [
      "(630, 1811)\n",
      "Linear SVM Hyperparameter Selection based on accuracy:\n",
      "[ 0.66350026  0.7304207   0.78131954  0.78751816  0.78590546  0.78590546]\n",
      "Linear SVM Hyperparameter Selection based on F1-Score:\n",
      "[ 0.79771418  0.81918909  0.83902927  0.83777158  0.83608265  0.83608265]\n",
      "Linear SVM Hyperparameter Selection based on AUROC:\n",
      "[ 0.5         0.63756855  0.73871499  0.75574157  0.75567186  0.75567186]\n"
     ]
    }
   ],
   "source": [
    "%run ./code/src/twitter.py"
   ]
  },
  {
   "cell_type": "code",
   "execution_count": 51,
   "metadata": {},
   "outputs": [
    {
     "name": "stdout",
     "output_type": "stream",
     "text": [
      "(630, 1811) (630,) (0, 1811) (0,)\n",
      "Linear SVM Hyperparameter Selection based on accuracy:\n",
      "[ 0.66350026  0.7304207   0.78131954  0.78751816  0.78590546  0.78590546]\n",
      "Linear SVM Hyperparameter Selection based on F1-Score:\n",
      "[ 0.79771418  0.81918909  0.83902927  0.83777158  0.83608265  0.83608265]\n",
      "Linear SVM Hyperparameter Selection based on AUROC:\n"
     ]
    },
    {
     "ename": "KeyboardInterrupt",
     "evalue": "",
     "output_type": "error",
     "traceback": [
      "\u001b[1;31m---------------------------------------------------------------------------\u001b[0m",
      "\u001b[1;31mKeyboardInterrupt\u001b[0m                         Traceback (most recent call last)",
      "\u001b[1;32m~\\Desktop\\Jupyter\\code\\src\\twitter.py\u001b[0m in \u001b[0;36m<module>\u001b[1;34m()\u001b[0m\n\u001b[0;32m    297\u001b[0m \u001b[1;33m\u001b[0m\u001b[0m\n\u001b[0;32m    298\u001b[0m \u001b[1;32mif\u001b[0m \u001b[0m__name__\u001b[0m \u001b[1;33m==\u001b[0m \u001b[1;34m\"__main__\"\u001b[0m \u001b[1;33m:\u001b[0m\u001b[1;33m\u001b[0m\u001b[0m\n\u001b[1;32m--> 299\u001b[1;33m     \u001b[0mmain\u001b[0m\u001b[1;33m(\u001b[0m\u001b[1;33m)\u001b[0m\u001b[1;33m\u001b[0m\u001b[0m\n\u001b[0m",
      "\u001b[1;32m~\\Desktop\\Jupyter\\code\\src\\twitter.py\u001b[0m in \u001b[0;36mmain\u001b[1;34m()\u001b[0m\n\u001b[0;32m    283\u001b[0m     \u001b[1;31m# part 2: for each metric, select optimal hyperparameter for linear-kernel SVM using CV\u001b[0m\u001b[1;33m\u001b[0m\u001b[1;33m\u001b[0m\u001b[0m\n\u001b[0;32m    284\u001b[0m     \u001b[1;32mfor\u001b[0m \u001b[0mmetric\u001b[0m \u001b[1;32min\u001b[0m \u001b[1;33m[\u001b[0m\u001b[1;34m'accuracy'\u001b[0m\u001b[1;33m,\u001b[0m \u001b[1;34m'F1-Score'\u001b[0m\u001b[1;33m,\u001b[0m \u001b[1;34m'AUROC'\u001b[0m\u001b[1;33m]\u001b[0m\u001b[1;33m:\u001b[0m\u001b[1;33m\u001b[0m\u001b[0m\n\u001b[1;32m--> 285\u001b[1;33m         \u001b[0mlst\u001b[0m \u001b[1;33m=\u001b[0m \u001b[0mselect_param_linear\u001b[0m\u001b[1;33m(\u001b[0m\u001b[0mtrainX\u001b[0m\u001b[1;33m,\u001b[0m \u001b[0mtrainy\u001b[0m\u001b[1;33m,\u001b[0m \u001b[0mskf\u001b[0m\u001b[1;33m,\u001b[0m \u001b[0mmetric\u001b[0m\u001b[1;33m)\u001b[0m\u001b[1;33m\u001b[0m\u001b[0m\n\u001b[0m\u001b[0;32m    286\u001b[0m         \u001b[0mprint\u001b[0m\u001b[1;33m(\u001b[0m\u001b[0mlst\u001b[0m\u001b[1;33m)\u001b[0m\u001b[1;33m\u001b[0m\u001b[0m\n\u001b[0;32m    287\u001b[0m \u001b[1;33m\u001b[0m\u001b[0m\n",
      "\u001b[1;32m~\\Desktop\\Jupyter\\code\\src\\twitter.py\u001b[0m in \u001b[0;36mselect_param_linear\u001b[1;34m(X, y, kf, metric)\u001b[0m\n\u001b[0;32m    222\u001b[0m     \u001b[1;31m### ========== TODO : START ========== ###\u001b[0m\u001b[1;33m\u001b[0m\u001b[1;33m\u001b[0m\u001b[0m\n\u001b[0;32m    223\u001b[0m     \u001b[1;31m# part 2: select optimal hyperparameter using cross-validation\u001b[0m\u001b[1;33m\u001b[0m\u001b[1;33m\u001b[0m\u001b[0m\n\u001b[1;32m--> 224\u001b[1;33m     \u001b[0marr\u001b[0m \u001b[1;33m=\u001b[0m \u001b[0mnp\u001b[0m\u001b[1;33m.\u001b[0m\u001b[0marray\u001b[0m\u001b[1;33m(\u001b[0m\u001b[1;33m[\u001b[0m\u001b[0mcv_performance\u001b[0m\u001b[1;33m(\u001b[0m\u001b[0mSVC\u001b[0m\u001b[1;33m(\u001b[0m\u001b[0mC\u001b[0m\u001b[1;33m=\u001b[0m\u001b[0mc\u001b[0m\u001b[1;33m,\u001b[0m \u001b[0mkernel\u001b[0m\u001b[1;33m=\u001b[0m\u001b[1;34m'linear'\u001b[0m\u001b[1;33m)\u001b[0m\u001b[1;33m,\u001b[0m \u001b[0mX\u001b[0m\u001b[1;33m,\u001b[0m \u001b[0my\u001b[0m\u001b[1;33m,\u001b[0m \u001b[0mkf\u001b[0m\u001b[1;33m,\u001b[0m \u001b[0mmetric\u001b[0m\u001b[1;33m)\u001b[0m \u001b[1;32mfor\u001b[0m \u001b[0mc\u001b[0m \u001b[1;32min\u001b[0m \u001b[0mC_range\u001b[0m\u001b[1;33m]\u001b[0m\u001b[1;33m)\u001b[0m\u001b[1;33m\u001b[0m\u001b[0m\n\u001b[0m\u001b[0;32m    225\u001b[0m     \u001b[1;32mreturn\u001b[0m \u001b[0marr\u001b[0m\u001b[1;33m\u001b[0m\u001b[0m\n\u001b[0;32m    226\u001b[0m     \u001b[1;31m# argmin = np.argmin(arr)\u001b[0m\u001b[1;33m\u001b[0m\u001b[1;33m\u001b[0m\u001b[0m\n",
      "\u001b[1;32m~\\Desktop\\Jupyter\\code\\src\\twitter.py\u001b[0m in \u001b[0;36m<listcomp>\u001b[1;34m(.0)\u001b[0m\n\u001b[0;32m    222\u001b[0m     \u001b[1;31m### ========== TODO : START ========== ###\u001b[0m\u001b[1;33m\u001b[0m\u001b[1;33m\u001b[0m\u001b[0m\n\u001b[0;32m    223\u001b[0m     \u001b[1;31m# part 2: select optimal hyperparameter using cross-validation\u001b[0m\u001b[1;33m\u001b[0m\u001b[1;33m\u001b[0m\u001b[0m\n\u001b[1;32m--> 224\u001b[1;33m     \u001b[0marr\u001b[0m \u001b[1;33m=\u001b[0m \u001b[0mnp\u001b[0m\u001b[1;33m.\u001b[0m\u001b[0marray\u001b[0m\u001b[1;33m(\u001b[0m\u001b[1;33m[\u001b[0m\u001b[0mcv_performance\u001b[0m\u001b[1;33m(\u001b[0m\u001b[0mSVC\u001b[0m\u001b[1;33m(\u001b[0m\u001b[0mC\u001b[0m\u001b[1;33m=\u001b[0m\u001b[0mc\u001b[0m\u001b[1;33m,\u001b[0m \u001b[0mkernel\u001b[0m\u001b[1;33m=\u001b[0m\u001b[1;34m'linear'\u001b[0m\u001b[1;33m)\u001b[0m\u001b[1;33m,\u001b[0m \u001b[0mX\u001b[0m\u001b[1;33m,\u001b[0m \u001b[0my\u001b[0m\u001b[1;33m,\u001b[0m \u001b[0mkf\u001b[0m\u001b[1;33m,\u001b[0m \u001b[0mmetric\u001b[0m\u001b[1;33m)\u001b[0m \u001b[1;32mfor\u001b[0m \u001b[0mc\u001b[0m \u001b[1;32min\u001b[0m \u001b[0mC_range\u001b[0m\u001b[1;33m]\u001b[0m\u001b[1;33m)\u001b[0m\u001b[1;33m\u001b[0m\u001b[0m\n\u001b[0m\u001b[0;32m    225\u001b[0m     \u001b[1;32mreturn\u001b[0m \u001b[0marr\u001b[0m\u001b[1;33m\u001b[0m\u001b[0m\n\u001b[0;32m    226\u001b[0m     \u001b[1;31m# argmin = np.argmin(arr)\u001b[0m\u001b[1;33m\u001b[0m\u001b[1;33m\u001b[0m\u001b[0m\n",
      "\u001b[1;32m~\\Desktop\\Jupyter\\code\\src\\twitter.py\u001b[0m in \u001b[0;36mcv_performance\u001b[1;34m(clf, X, y, kf, metric)\u001b[0m\n\u001b[0;32m    187\u001b[0m         \u001b[0mX_train\u001b[0m\u001b[1;33m,\u001b[0m \u001b[0mX_valid\u001b[0m \u001b[1;33m=\u001b[0m \u001b[0mX\u001b[0m\u001b[1;33m[\u001b[0m\u001b[0mtrain_index\u001b[0m\u001b[1;33m]\u001b[0m\u001b[1;33m,\u001b[0m \u001b[0mX\u001b[0m\u001b[1;33m[\u001b[0m\u001b[0mvalid_index\u001b[0m\u001b[1;33m]\u001b[0m\u001b[1;33m\u001b[0m\u001b[0m\n\u001b[0;32m    188\u001b[0m         \u001b[0my_train\u001b[0m\u001b[1;33m,\u001b[0m \u001b[0my_valid\u001b[0m \u001b[1;33m=\u001b[0m \u001b[0my\u001b[0m\u001b[1;33m[\u001b[0m\u001b[0mtrain_index\u001b[0m\u001b[1;33m]\u001b[0m\u001b[1;33m,\u001b[0m \u001b[0my\u001b[0m\u001b[1;33m[\u001b[0m\u001b[0mvalid_index\u001b[0m\u001b[1;33m]\u001b[0m\u001b[1;33m\u001b[0m\u001b[0m\n\u001b[1;32m--> 189\u001b[1;33m         \u001b[0mclf\u001b[0m\u001b[1;33m.\u001b[0m\u001b[0mfit\u001b[0m\u001b[1;33m(\u001b[0m\u001b[0mX_train\u001b[0m\u001b[1;33m,\u001b[0m \u001b[0my_train\u001b[0m\u001b[1;33m)\u001b[0m\u001b[1;33m\u001b[0m\u001b[0m\n\u001b[0m\u001b[0;32m    190\u001b[0m         \u001b[0msum\u001b[0m \u001b[1;33m+=\u001b[0m \u001b[0mperformance\u001b[0m\u001b[1;33m(\u001b[0m\u001b[0my_valid\u001b[0m\u001b[1;33m,\u001b[0m \u001b[0mclf\u001b[0m\u001b[1;33m.\u001b[0m\u001b[0mdecision_function\u001b[0m\u001b[1;33m(\u001b[0m\u001b[0mX_valid\u001b[0m\u001b[1;33m)\u001b[0m\u001b[1;33m,\u001b[0m \u001b[0mmetric\u001b[0m\u001b[1;33m)\u001b[0m\u001b[1;33m\u001b[0m\u001b[0m\n\u001b[0;32m    191\u001b[0m         \u001b[0mi\u001b[0m \u001b[1;33m+=\u001b[0m \u001b[1;36m1\u001b[0m\u001b[1;33m\u001b[0m\u001b[0m\n",
      "\u001b[1;32mD:\\Anaconda3\\lib\\site-packages\\sklearn\\svm\\base.py\u001b[0m in \u001b[0;36mfit\u001b[1;34m(self, X, y, sample_weight)\u001b[0m\n\u001b[0;32m    185\u001b[0m \u001b[1;33m\u001b[0m\u001b[0m\n\u001b[0;32m    186\u001b[0m         \u001b[0mseed\u001b[0m \u001b[1;33m=\u001b[0m \u001b[0mrnd\u001b[0m\u001b[1;33m.\u001b[0m\u001b[0mrandint\u001b[0m\u001b[1;33m(\u001b[0m\u001b[0mnp\u001b[0m\u001b[1;33m.\u001b[0m\u001b[0miinfo\u001b[0m\u001b[1;33m(\u001b[0m\u001b[1;34m'i'\u001b[0m\u001b[1;33m)\u001b[0m\u001b[1;33m.\u001b[0m\u001b[0mmax\u001b[0m\u001b[1;33m)\u001b[0m\u001b[1;33m\u001b[0m\u001b[0m\n\u001b[1;32m--> 187\u001b[1;33m         \u001b[0mfit\u001b[0m\u001b[1;33m(\u001b[0m\u001b[0mX\u001b[0m\u001b[1;33m,\u001b[0m \u001b[0my\u001b[0m\u001b[1;33m,\u001b[0m \u001b[0msample_weight\u001b[0m\u001b[1;33m,\u001b[0m \u001b[0msolver_type\u001b[0m\u001b[1;33m,\u001b[0m \u001b[0mkernel\u001b[0m\u001b[1;33m,\u001b[0m \u001b[0mrandom_seed\u001b[0m\u001b[1;33m=\u001b[0m\u001b[0mseed\u001b[0m\u001b[1;33m)\u001b[0m\u001b[1;33m\u001b[0m\u001b[0m\n\u001b[0m\u001b[0;32m    188\u001b[0m         \u001b[1;31m# see comment on the other call to np.iinfo in this file\u001b[0m\u001b[1;33m\u001b[0m\u001b[1;33m\u001b[0m\u001b[0m\n\u001b[0;32m    189\u001b[0m \u001b[1;33m\u001b[0m\u001b[0m\n",
      "\u001b[1;32mD:\\Anaconda3\\lib\\site-packages\\sklearn\\svm\\base.py\u001b[0m in \u001b[0;36m_dense_fit\u001b[1;34m(self, X, y, sample_weight, solver_type, kernel, random_seed)\u001b[0m\n\u001b[0;32m    252\u001b[0m                 \u001b[0mcache_size\u001b[0m\u001b[1;33m=\u001b[0m\u001b[0mself\u001b[0m\u001b[1;33m.\u001b[0m\u001b[0mcache_size\u001b[0m\u001b[1;33m,\u001b[0m \u001b[0mcoef0\u001b[0m\u001b[1;33m=\u001b[0m\u001b[0mself\u001b[0m\u001b[1;33m.\u001b[0m\u001b[0mcoef0\u001b[0m\u001b[1;33m,\u001b[0m\u001b[1;33m\u001b[0m\u001b[0m\n\u001b[0;32m    253\u001b[0m                 \u001b[0mgamma\u001b[0m\u001b[1;33m=\u001b[0m\u001b[0mself\u001b[0m\u001b[1;33m.\u001b[0m\u001b[0m_gamma\u001b[0m\u001b[1;33m,\u001b[0m \u001b[0mepsilon\u001b[0m\u001b[1;33m=\u001b[0m\u001b[0mself\u001b[0m\u001b[1;33m.\u001b[0m\u001b[0mepsilon\u001b[0m\u001b[1;33m,\u001b[0m\u001b[1;33m\u001b[0m\u001b[0m\n\u001b[1;32m--> 254\u001b[1;33m                 max_iter=self.max_iter, random_seed=random_seed)\n\u001b[0m\u001b[0;32m    255\u001b[0m \u001b[1;33m\u001b[0m\u001b[0m\n\u001b[0;32m    256\u001b[0m         \u001b[0mself\u001b[0m\u001b[1;33m.\u001b[0m\u001b[0m_warn_from_fit_status\u001b[0m\u001b[1;33m(\u001b[0m\u001b[1;33m)\u001b[0m\u001b[1;33m\u001b[0m\u001b[0m\n",
      "\u001b[1;31mKeyboardInterrupt\u001b[0m: "
     ]
    }
   ],
   "source": [
    "%run ./code/src/twitter.py"
   ]
  },
  {
   "cell_type": "code",
   "execution_count": 2,
   "metadata": {},
   "outputs": [
    {
     "name": "stdout",
     "output_type": "stream",
     "text": [
      "(560, 1811) (560,) (70, 1811) (70,)\n",
      "Linear SVM Hyperparameter Selection based on accuracy:\n",
      "[ 0.70894195  0.71074376  0.80603268  0.81462711  0.81818274  0.81818274]\n",
      "Linear SVM Hyperparameter Selection based on F1-Score:\n",
      "[ 0.82968282  0.8305628   0.87547268  0.87486483  0.87656215  0.87656215]\n",
      "Linear SVM Hyperparameter Selection based on AUROC:\n",
      "[ 0.5         0.503125    0.71878716  0.75311133  0.75917194  0.75917194]\n",
      "Linear SVM Test based on accuracy:0.742857142857\n",
      "Linear SVM Test based on F1-Score:0.4375\n",
      "Linear SVM Test based on AUROC:0.625850340136\n"
     ]
    }
   ],
   "source": [
    "%run ./code/src/twitter.py"
   ]
  },
  {
   "cell_type": "code",
   "execution_count": null,
   "metadata": {
    "collapsed": true
   },
   "outputs": [],
   "source": []
  }
 ],
 "metadata": {
  "kernelspec": {
   "display_name": "Python 3",
   "language": "python",
   "name": "python3"
  },
  "language_info": {
   "codemirror_mode": {
    "name": "ipython",
    "version": 3
   },
   "file_extension": ".py",
   "mimetype": "text/x-python",
   "name": "python",
   "nbconvert_exporter": "python",
   "pygments_lexer": "ipython3",
   "version": "3.6.3"
  }
 },
 "nbformat": 4,
 "nbformat_minor": 2
}
